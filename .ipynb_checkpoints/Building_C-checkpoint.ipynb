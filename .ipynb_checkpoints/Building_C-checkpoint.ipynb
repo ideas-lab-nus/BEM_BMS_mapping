{
 "cells": [
  {
   "cell_type": "code",
   "execution_count": 1,
   "metadata": {
    "collapsed": true
   },
   "outputs": [],
   "source": [
    "import numpy as np\n",
    "import matplotlib.pyplot as plt\n",
    "import pandas as pd\n",
    "import datetime as dt\n",
    "import matplotlib.dates as mdates\n",
    "import re\n",
    "import sklearn.cluster\n",
    "from nltk import ngrams\n",
    "from eppy import modeleditor\n",
    "from eppy.modeleditor import IDF\n",
    "IDF.setiddname('C:/EnergyPlusV8-8-0/Energy+.idd')\n",
    "\n",
    "import warnings\n",
    "warnings.simplefilter(action='ignore', category=DeprecationWarning)\n",
    "\n",
    "%matplotlib inline"
   ]
  },
  {
   "cell_type": "markdown",
   "metadata": {},
   "source": [
    "# on Tagnames"
   ]
  },
  {
   "cell_type": "markdown",
   "metadata": {},
   "source": [
    "### when the building is not large or the BMS is too detailed (diff. points at one location outnumber one point at diff. location). The assumption wont hold. If the naming convention is clear enough, the measurement information can be extracted by just trimming. There's no need for clustering."
   ]
  },
  {
   "cell_type": "code",
   "execution_count": 2,
   "metadata": {
    "collapsed": false,
    "scrolled": true
   },
   "outputs": [
    {
     "data": {
      "text/plain": [
       "0    CSE\n",
       "1    CV_\n",
       "2    CWR\n",
       "3    CWS\n",
       "4    CWV\n",
       "Name: tag, dtype: object"
      ]
     },
     "execution_count": 2,
     "metadata": {},
     "output_type": "execute_result"
    }
   ],
   "source": [
    "raw = pd.read_csv('IW.csv')\n",
    "tags = raw['tag'].copy()\n",
    "tags = tags.apply(lambda x: re.split('[.:]',x)[-1])\n",
    "tags.head()"
   ]
  },
  {
   "cell_type": "code",
   "execution_count": 3,
   "metadata": {
    "collapsed": true
   },
   "outputs": [],
   "source": [
    "from itertools import combinations\n",
    "def razors(string):\n",
    "    m = len(string)-1\n",
    "    result = []\n",
    "    for k in range(min(m+1,7)):\n",
    "        for bits in combinations(range(m), k):\n",
    "            s = [1] * m\n",
    "            for bit in bits:\n",
    "                s[bit] = 0\n",
    "            result.append(s)\n",
    "    return result\n",
    "\n",
    "def Xgrams(string):\n",
    "    string = ''.join(re.split('[ _,:]',string))\n",
    "    ngrams = []\n",
    "    for item in razors(string):\n",
    "        ngram = []\n",
    "        flag = 0\n",
    "        for i in range(len(item)):\n",
    "            if item[i]:\n",
    "                ngram.append(string[flag:i+1])\n",
    "                flag = i+1\n",
    "        ngram.append(string[flag:])\n",
    "        ngram.sort(key = len,reverse=True)   # so that the longer substrings get matched first\n",
    "        ngrams.append(ngram)\n",
    "    return ngrams"
   ]
  },
  {
   "cell_type": "code",
   "execution_count": 4,
   "metadata": {
    "collapsed": false
   },
   "outputs": [
    {
     "data": {
      "text/html": [
       "<div>\n",
       "<style scoped>\n",
       "    .dataframe tbody tr th:only-of-type {\n",
       "        vertical-align: middle;\n",
       "    }\n",
       "\n",
       "    .dataframe tbody tr th {\n",
       "        vertical-align: top;\n",
       "    }\n",
       "\n",
       "    .dataframe thead th {\n",
       "        text-align: right;\n",
       "    }\n",
       "</style>\n",
       "<table border=\"1\" class=\"dataframe\">\n",
       "  <thead>\n",
       "    <tr style=\"text-align: right;\">\n",
       "      <th></th>\n",
       "      <th>tag</th>\n",
       "      <th>Xgrams</th>\n",
       "    </tr>\n",
       "  </thead>\n",
       "  <tbody>\n",
       "    <tr>\n",
       "      <th>0</th>\n",
       "      <td>CSE</td>\n",
       "      <td>[[C, S, E], [CS, E], [SE, C], [CSE]]</td>\n",
       "    </tr>\n",
       "    <tr>\n",
       "      <th>1</th>\n",
       "      <td>CV_</td>\n",
       "      <td>[[C, V], [CV]]</td>\n",
       "    </tr>\n",
       "    <tr>\n",
       "      <th>2</th>\n",
       "      <td>CWR</td>\n",
       "      <td>[[C, W, R], [CW, R], [WR, C], [CWR]]</td>\n",
       "    </tr>\n",
       "    <tr>\n",
       "      <th>3</th>\n",
       "      <td>CWS</td>\n",
       "      <td>[[C, W, S], [CW, S], [WS, C], [CWS]]</td>\n",
       "    </tr>\n",
       "    <tr>\n",
       "      <th>4</th>\n",
       "      <td>CWV</td>\n",
       "      <td>[[C, W, V], [CW, V], [WV, C], [CWV]]</td>\n",
       "    </tr>\n",
       "  </tbody>\n",
       "</table>\n",
       "</div>"
      ],
      "text/plain": [
       "   tag                                Xgrams\n",
       "0  CSE  [[C, S, E], [CS, E], [SE, C], [CSE]]\n",
       "1  CV_                        [[C, V], [CV]]\n",
       "2  CWR  [[C, W, R], [CW, R], [WR, C], [CWR]]\n",
       "3  CWS  [[C, W, S], [CW, S], [WS, C], [CWS]]\n",
       "4  CWV  [[C, W, V], [CW, V], [WV, C], [CWV]]"
      ]
     },
     "execution_count": 4,
     "metadata": {},
     "output_type": "execute_result"
    }
   ],
   "source": [
    "OPCtag = pd.DataFrame(tags.unique(),columns=['tag'])\n",
    "\n",
    "# for i in range(1,len(OPCtag)+1):\n",
    "#     s = OPCtag.loc[i,('tag')]\n",
    "#     OPCtag.loc[i,('loc')] = s[:s.index(OPCtag.loc[i,('loc')])]\n",
    "\n",
    "OPCtag['tag'] = OPCtag['tag'].apply(lambda x: str.upper(x))\n",
    "OPCtag['Xgrams'] = OPCtag['tag'].apply(lambda x: Xgrams(x))\n",
    "OPCtag = OPCtag[OPCtag['tag'].str.len()<7]\n",
    "OPCtag.head()"
   ]
  },
  {
   "cell_type": "markdown",
   "metadata": {},
   "source": [
    "# create dict"
   ]
  },
  {
   "cell_type": "code",
   "execution_count": 5,
   "metadata": {
    "collapsed": true
   },
   "outputs": [],
   "source": [
    "def updateABB(abb,full):\n",
    "    global ABBdict\n",
    "    for i in full:\n",
    "        if i in list(ABBdict['name']):\n",
    "            ABBdict['abb'].loc[ABBdict['name']==i].item().add(abb[full.index(i)])\n",
    "        else:\n",
    "            ABBdict = ABBdict.append({'abb': set([abb[full.index(i)]]),'name':i}, ignore_index=True)"
   ]
  },
  {
   "cell_type": "code",
   "execution_count": 6,
   "metadata": {
    "collapsed": true
   },
   "outputs": [],
   "source": [
    "dict1 = pd.read_csv('HVACacronym.csv')\n",
    "dict2 = pd.read_csv('HVACacronym1.csv')\n",
    "\n",
    "dict1['full']=dict1['full'].apply(lambda x: str.lower(x))\n",
    "dict2['name']=dict2['name'].apply(lambda x: str.lower(x))\n",
    "\n",
    "ABBdict = pd.concat([dict1.rename({'full':'name'}, axis='columns'),dict2])\n",
    "ABBdict['abb']= ABBdict[['abb']].values.tolist()\n",
    "ABBdict = pd.DataFrame(ABBdict.groupby('name')['abb'].sum())\n",
    "ABBdict['name']=ABBdict.index\n",
    "ABBdict.rename(index=str, columns={0: \"abb\"},inplace=True)\n",
    "ABBdict['abb']= ABBdict['abb'].apply(lambda x: set(x))\n",
    "\n",
    "ABBdict.reset_index(drop=True,inplace=True)"
   ]
  },
  {
   "cell_type": "code",
   "execution_count": 7,
   "metadata": {
    "collapsed": true
   },
   "outputs": [],
   "source": [
    "abb = ['OC','TMP','TEMP','SA','STATIC','RA','RH','RM','BM','FLWR','RET','KWATT','KWHR','PM','ENGRY','FWD','PWR','AHU',\n",
    "      'FAN','SPEED','BYP','CLG','WATER','VLV','TP','SMK','FA','PM','BM','CURR','VOLT','PW']\n",
    "full=['off coil','temperature','temperature','supply air','pressure','return air','relative humidity','room',\n",
    "      'btu meter','flow rate','return','power','energy','power meter','energy','supply','power','ahu',\n",
    "      'fan','speed','bypass','cooling','water','valve','time program','smoke','fresh air','power meter','btu meter',\n",
    "      'current','voltage','power']\n",
    "updateABB(abb,full)\n",
    "\n",
    "EPname = ['zone','air','coil','energy','heating','cooling','air terminal','pump','boiler','condenser','setpoint',\n",
    "          'heat exchanger','humidifier','heater','water','people','window','infiltration','equipment','outdoor',\n",
    "          'drybulb','dewpoint','speed','angle','radiation','pressure','precipitation','occupant','lights',\n",
    "          'humidity ratio','facility','mass flow rate','interior','gas','office','room','level','extract',\n",
    "          'fan','supply','air loop','site','power','radiant','fan coil unit','indoor','heat pump',\n",
    "          'vav','vrf','return','inlet','outlet','relief air','rate']\n",
    "\n",
    "EPabb = ['RM','A','C','KWHR','HT','CL','VAV','PMP','B','COND','SP','HX','HUMID','HTR','WTR','PPL','WD','INFIL',\n",
    "        'EQUIP','O','DB','DP','SPD','AGL','R','PR','P','OCC','LT','HR','FAC','FLWR','INTR','G','OFC','RM','LV',\n",
    "        'E','F','S','AHU','LOC','KWATT','R','FCU','I','CU','VAV','VRF','R','S','R','EA','KW']\n",
    "updateABB(EPabb,EPname)\n",
    "\n",
    "NODEname = ['supply side inlet','supply side outlet','coil air outlet','mixed inlet','splitter outlet',\n",
    "           'coil outlet','inlet','outlet','supply inlet']\n",
    "\n",
    "NODEabb = ['R','S','OC','R','S','S','FWD','RET','R']\n",
    "\n",
    "updateABB(NODEabb,NODEname)\n",
    "\n",
    "testName = ['electricity','energy','power','demand','rate','coil air outlet','coil outlet']\n",
    "\n",
    "testABB = ['KWHR','ENGRY','PWR','ENGRY','PWR','S','OC']\n",
    "\n",
    "updateABB(testABB,testName)"
   ]
  },
  {
   "cell_type": "code",
   "execution_count": 8,
   "metadata": {
    "collapsed": false
   },
   "outputs": [
    {
     "data": {
      "text/html": [
       "<div>\n",
       "<style scoped>\n",
       "    .dataframe tbody tr th:only-of-type {\n",
       "        vertical-align: middle;\n",
       "    }\n",
       "\n",
       "    .dataframe tbody tr th {\n",
       "        vertical-align: top;\n",
       "    }\n",
       "\n",
       "    .dataframe thead th {\n",
       "        text-align: right;\n",
       "    }\n",
       "</style>\n",
       "<table border=\"1\" class=\"dataframe\">\n",
       "  <thead>\n",
       "    <tr style=\"text-align: right;\">\n",
       "      <th></th>\n",
       "      <th>abb</th>\n",
       "      <th>name</th>\n",
       "    </tr>\n",
       "  </thead>\n",
       "  <tbody>\n",
       "    <tr>\n",
       "      <th>287</th>\n",
       "      <td>{FLWR}</td>\n",
       "      <td>flow rate</td>\n",
       "    </tr>\n",
       "    <tr>\n",
       "      <th>324</th>\n",
       "      <td>{FLWR, FLO, FL}</td>\n",
       "      <td>mass flow rate</td>\n",
       "    </tr>\n",
       "  </tbody>\n",
       "</table>\n",
       "</div>"
      ],
      "text/plain": [
       "                 abb            name\n",
       "287           {FLWR}       flow rate\n",
       "324  {FLWR, FLO, FL}  mass flow rate"
      ]
     },
     "execution_count": 8,
     "metadata": {},
     "output_type": "execute_result"
    }
   ],
   "source": [
    "iwName = ['dewpoint','relative humidity','humidity ratio','wind','direction','global','solar',\n",
    "          'zone','electricity','water','mass flow rate']\n",
    "iwABB = ['DWP','HM','HM','W','DIREC','GLO','S','R','TOTKW','W','FL']\n",
    "updateABB(iwABB,iwName)\n",
    "\n",
    "iwName = ['humidity ratio','relative humidity','mass flow rate']\n",
    "iwABB = ['HUM','HUM','FLO']\n",
    "updateABB(iwABB,iwName)\n",
    "\n",
    "ABBdict[ABBdict['name'].str.contains('flow rate')]"
   ]
  },
  {
   "cell_type": "markdown",
   "metadata": {},
   "source": [
    "# map"
   ]
  },
  {
   "cell_type": "code",
   "execution_count": 9,
   "metadata": {
    "collapsed": true
   },
   "outputs": [],
   "source": [
    "def match(s,OPCtag,th):\n",
    "    \n",
    "    ngram = []\n",
    "    for i in range(3,0,-1):\n",
    "        grams = ngrams(s.split(' '),i)\n",
    "        for gram in grams:\n",
    "            ngram.append(' '.join(list(gram)))\n",
    "    \n",
    "#     ngram.sort(key = lambda s: len(s),reverse = True)\n",
    "    ABBs = []\n",
    "    while len(ngram)>0:\n",
    "        i = ngram[0]\n",
    "        ngram.remove(i)\n",
    "#         print(ngram)\n",
    "        try:\n",
    "            ABBs.append(ABBdict.loc[ABBdict['name'] == i,'abb'].values[0])\n",
    "            ngram = [s for s in ngram if (s not in i)]\n",
    "        except:\n",
    "            pass\n",
    "\n",
    "    details = []\n",
    "    for i in OPCtag.index:\n",
    "        idx = 0\n",
    "        m = 0\n",
    "        r = 0\n",
    "        for j in range(len(OPCtag['Xgrams'][i])):\n",
    "            used = [0]*len(ABBs)    # so that a set of ABBs is only matched once\n",
    "            count = 0\n",
    "            for gram in OPCtag.loc[i,'Xgrams'][j]:\n",
    "                for c in range(len(ABBs)):\n",
    "                    if gram in ABBs[c] and used[c]==0:\n",
    "                        used[c] = 1\n",
    "                        count += len(gram)\n",
    "                        break\n",
    "            if count > m:\n",
    "                m = count # to avoid division by zero error\n",
    "                # harmonic average of ratio on both side\n",
    "                r = 2/(len(ABBs)/sum(used) + len(OPCtag['tag'][i])/m)\n",
    "                idx = j\n",
    "# criteria passed: # of hits, # of total hit characters in tag, ratio of hit sets over total\n",
    "        if r >= .01:\n",
    "            details.append([round(r,4),OPCtag['tag'][i],tuple(OPCtag['Xgrams'][i][idx])])\n",
    "\n",
    "    details = list(set(tuple(x) for x in details))\n",
    "    details.sort()\n",
    "    matches = [i[1] for i in details][-th:] #top 10 vs top 7 (10%) tested\n",
    "\n",
    "    return [matches,details,ABBs]"
   ]
  },
  {
   "cell_type": "code",
   "execution_count": 10,
   "metadata": {
    "collapsed": true
   },
   "outputs": [],
   "source": [
    "def check(result):\n",
    "    for i in result.index:\n",
    "        if len(result.loc[i,'matches']) == 0:\n",
    "            if np.nan in result.loc[i,'truth']:\n",
    "                result.loc[i,'test'] = 'TN'\n",
    "            else:\n",
    "                result.loc[i,'test'] = 'FN'\n",
    "        elif np.nan in result.loc[i,'truth']:\n",
    "            result.loc[i,'test'] = 'FP'\n",
    "        else:\n",
    "            for m in result.loc[i,'truth']:\n",
    "                if m in result.loc[i,'matches']:\n",
    "                    result.loc[i,'test'] = 'TP'\n",
    "                    break\n",
    "                else:\n",
    "                    result.loc[i,'test'] = 'FP1'\n",
    "    return result"
   ]
  },
  {
   "cell_type": "markdown",
   "metadata": {},
   "source": [
    "# reading E+ outputs"
   ]
  },
  {
   "cell_type": "code",
   "execution_count": 13,
   "metadata": {
    "collapsed": false
   },
   "outputs": [
    {
     "data": {
      "text/html": [
       "<div>\n",
       "<style scoped>\n",
       "    .dataframe tbody tr th:only-of-type {\n",
       "        vertical-align: middle;\n",
       "    }\n",
       "\n",
       "    .dataframe tbody tr th {\n",
       "        vertical-align: top;\n",
       "    }\n",
       "\n",
       "    .dataframe thead th {\n",
       "        text-align: right;\n",
       "    }\n",
       "</style>\n",
       "<table border=\"1\" class=\"dataframe\">\n",
       "  <thead>\n",
       "    <tr style=\"text-align: right;\">\n",
       "      <th></th>\n",
       "      <th>input</th>\n",
       "      <th>truth</th>\n",
       "    </tr>\n",
       "  </thead>\n",
       "  <tbody>\n",
       "    <tr>\n",
       "      <th>0</th>\n",
       "      <td>site outdoor air drybulb temperature</td>\n",
       "      <td>[TEMP, OAT]</td>\n",
       "    </tr>\n",
       "    <tr>\n",
       "      <th>199</th>\n",
       "      <td>ahu cooling coil water inlet node temperature</td>\n",
       "      <td>[SWT, CWS]</td>\n",
       "    </tr>\n",
       "    <tr>\n",
       "      <th>200</th>\n",
       "      <td>ahu cooling coil water inlet node mass flow rate</td>\n",
       "      <td>[FLS, FLO]</td>\n",
       "    </tr>\n",
       "    <tr>\n",
       "      <th>205</th>\n",
       "      <td>ahu cooling coil water outlet node temperature</td>\n",
       "      <td>[RWT, CWR]</td>\n",
       "    </tr>\n",
       "    <tr>\n",
       "      <th>206</th>\n",
       "      <td>ahu cooling coil water outlet node mass flow rate</td>\n",
       "      <td>[FLS, FLO]</td>\n",
       "    </tr>\n",
       "  </tbody>\n",
       "</table>\n",
       "</div>"
      ],
      "text/plain": [
       "                                                 input        truth\n",
       "0                 site outdoor air drybulb temperature  [TEMP, OAT]\n",
       "199      ahu cooling coil water inlet node temperature   [SWT, CWS]\n",
       "200   ahu cooling coil water inlet node mass flow rate   [FLS, FLO]\n",
       "205     ahu cooling coil water outlet node temperature   [RWT, CWR]\n",
       "206  ahu cooling coil water outlet node mass flow rate   [FLS, FLO]"
      ]
     },
     "execution_count": 13,
     "metadata": {},
     "output_type": "execute_result"
    }
   ],
   "source": [
    "truth = pd.read_csv('truthIW.csv')\n",
    "for i in truth.index:\n",
    "    if truth.loc[i,'alter'] in [np.nan]:\n",
    "        truth.loc[i,'truth'] = [truth.loc[i,'truth']]\n",
    "    else:\n",
    "        truth.loc[i,'truth'] = [truth.loc[i,'truth'],truth.loc[i,'alter']]\n",
    "truth.drop(columns=['alter'],inplace = True)\n",
    "truth[truth['truth'].str.len()>1]"
   ]
  },
  {
   "cell_type": "code",
   "execution_count": 22,
   "metadata": {
    "collapsed": true
   },
   "outputs": [],
   "source": [
    "top7 = pd.DataFrame(columns = ['input','abbs','matches'])\n",
    "ls = truth['input'].unique()\n",
    "# add some input variables to map\n",
    "for i in range(len(ls)):\n",
    "    test = match(ls[i],OPCtag,5)\n",
    "#     print(i,end=' ')\n",
    "#     print(test[1])\n",
    "    top7.loc[i,'input'] = ls[i]\n",
    "    top7.loc[i,'abbs'] = test[2]\n",
    "    top7.loc[i,'matches'] = test[0]\n",
    "#     result.loc[i,'detail'] = test[1]\n",
    "top7 = top7.join(truth.set_index('input'), on='input')"
   ]
  },
  {
   "cell_type": "code",
   "execution_count": 42,
   "metadata": {
    "collapsed": false,
    "scrolled": true
   },
   "outputs": [
    {
     "data": {
      "text/plain": [
       "[['TOTKW'], [(1.0, 'TOTKW', ('TOTKW',))], [{'KWHR', 'TOTKW'}]]"
      ]
     },
     "execution_count": 42,
     "metadata": {},
     "output_type": "execute_result"
    }
   ],
   "source": [
    "match('electricity',OPCtag,7)"
   ]
  },
  {
   "cell_type": "code",
   "execution_count": 23,
   "metadata": {
    "collapsed": false,
    "scrolled": true
   },
   "outputs": [
    {
     "data": {
      "text/plain": [
       "FP     439\n",
       "TP      17\n",
       "TN       8\n",
       "FP1      2\n",
       "Name: test, dtype: int64"
      ]
     },
     "execution_count": 23,
     "metadata": {},
     "output_type": "execute_result"
    }
   ],
   "source": [
    "t7 = check(top7)\n",
    "t7['test'].value_counts()"
   ]
  },
  {
   "cell_type": "code",
   "execution_count": 15,
   "metadata": {
    "collapsed": true
   },
   "outputs": [],
   "source": [
    "def check1(result):\n",
    "    for i in result.index:\n",
    "        if len(result.loc[i,'matches']) == 0:\n",
    "            if np.nan in result.loc[i,'truth']:\n",
    "                result.loc[i,'test'] = 'TN'\n",
    "            else:\n",
    "                result.loc[i,'test'] = 'FN'\n",
    "        elif np.nan in result.loc[i,'truth']:\n",
    "            result.loc[i,'test'] = 'FP'\n",
    "        else:\n",
    "            for m in result.loc[i,'truth']:\n",
    "                if m == result.loc[i,'matches'][-1]:\n",
    "                    result.loc[i,'test'] = 'TP'\n",
    "                    break\n",
    "                else:\n",
    "                    result.loc[i,'test'] = 'FP1'\n",
    "    return result"
   ]
  },
  {
   "cell_type": "code",
   "execution_count": 16,
   "metadata": {
    "collapsed": false
   },
   "outputs": [
    {
     "data": {
      "text/plain": [
       "FP     413\n",
       "TP      14\n",
       "TN       8\n",
       "FP1      5\n",
       "Name: test, dtype: int64"
      ]
     },
     "execution_count": 16,
     "metadata": {},
     "output_type": "execute_result"
    }
   ],
   "source": [
    "t7 = check1(top7)\n",
    "t7['test'].value_counts()"
   ]
  },
  {
   "cell_type": "markdown",
   "metadata": {},
   "source": [
    "# baseline\n"
   ]
  },
  {
   "cell_type": "code",
   "execution_count": 17,
   "metadata": {
    "collapsed": true
   },
   "outputs": [],
   "source": [
    "def onNgram(s,OPCtag,th):\n",
    "    \n",
    "    ngram = []\n",
    "    for i in range(3,0,-1):\n",
    "        grams = ngrams(s.split(' '),i)\n",
    "        for gram in grams:\n",
    "            ngram.append(' '.join(list(gram)))\n",
    "    \n",
    "#     ngram.sort(key = lambda s: len(s),reverse = True)\n",
    "    ABBs = []\n",
    "    while len(ngram)>0:\n",
    "        i = ngram[0]\n",
    "        ngram.remove(i)\n",
    "        try:\n",
    "            ABBs.append(ABBdict.loc[ABBdict['name'] == i,'abb'].values[0])\n",
    "            ngram = [s for s in ngram if (s not in i)]\n",
    "        except:\n",
    "            pass\n",
    "    \n",
    "    detail = []\n",
    "    for i in OPCtag.index:\n",
    "        r = 0\n",
    "        used = [0]*len(ABBs)    # so that a set of ABBs is only matched once\n",
    "        count = 0\n",
    "        for gram in OPCtag['ngram'][i]:\n",
    "            for c in range(len(ABBs)):\n",
    "                if gram in ABBs[c] and used[c]==0:\n",
    "                    used[c] = 1\n",
    "                    count += 1\n",
    "                    break\n",
    "# criteria passed: # of hits, # of total hit characters in tag, ratio of hit sets over total\n",
    "        if count >= 1:\n",
    "            # harmonic average of ratio on both side\n",
    "#             r = 2/(len(ABBs)/sum(used) + len(OPCtag['ngram'][i])/count)\n",
    "#             Jaccard similarity\n",
    "            r = count/(len(ABBs)+len(OPCtag['ngram'][i])-count)\n",
    "            detail.append([round(r,4),OPCtag['tag'][i]])  #,tuple(OPCtag['ngram'][i])\n",
    "\n",
    "    detail = list(set(tuple(x) for x in detail))\n",
    "    detail.sort()\n",
    "    matches = [i[1] for i in detail][-th:] #top 10 vs top 7 (10%) tested\n",
    "            \n",
    "    return [matches,detail,ABBs]\n",
    "\n",
    "# test = match(str.lower('Zone Mean Air Temperature'),OPCtag)\n",
    "# set(tuple(x) for x in test[0])"
   ]
  },
  {
   "cell_type": "code",
   "execution_count": 18,
   "metadata": {
    "collapsed": false
   },
   "outputs": [
    {
     "data": {
      "text/html": [
       "<div>\n",
       "<style scoped>\n",
       "    .dataframe tbody tr th:only-of-type {\n",
       "        vertical-align: middle;\n",
       "    }\n",
       "\n",
       "    .dataframe tbody tr th {\n",
       "        vertical-align: top;\n",
       "    }\n",
       "\n",
       "    .dataframe thead th {\n",
       "        text-align: right;\n",
       "    }\n",
       "</style>\n",
       "<table border=\"1\" class=\"dataframe\">\n",
       "  <thead>\n",
       "    <tr style=\"text-align: right;\">\n",
       "      <th></th>\n",
       "      <th>tag</th>\n",
       "      <th>Xgrams</th>\n",
       "      <th>ngram</th>\n",
       "    </tr>\n",
       "  </thead>\n",
       "  <tbody>\n",
       "    <tr>\n",
       "      <th>93</th>\n",
       "      <td>8</td>\n",
       "      <td>[[8]]</td>\n",
       "      <td>[8]</td>\n",
       "    </tr>\n",
       "    <tr>\n",
       "      <th>94</th>\n",
       "      <td>UFHM</td>\n",
       "      <td>[[U, F, H, M], [UF, H, M], [FH, U, M], [HM, U,...</td>\n",
       "      <td>[U, F, H, M, UF, FH, HM, UFH, FHM, UFHM]</td>\n",
       "    </tr>\n",
       "    <tr>\n",
       "      <th>95</th>\n",
       "      <td>UFT</td>\n",
       "      <td>[[U, F, T], [UF, T], [FT, U], [UFT]]</td>\n",
       "      <td>[U, F, T, UF, FT, UFT]</td>\n",
       "    </tr>\n",
       "    <tr>\n",
       "      <th>96</th>\n",
       "      <td>MSP</td>\n",
       "      <td>[[M, S, P], [MS, P], [SP, M], [MSP]]</td>\n",
       "      <td>[M, S, P, MS, SP, MSP]</td>\n",
       "    </tr>\n",
       "    <tr>\n",
       "      <th>97</th>\n",
       "      <td>MV_</td>\n",
       "      <td>[[M, V], [MV]]</td>\n",
       "      <td>[M, V, _, MV, V_, MV_]</td>\n",
       "    </tr>\n",
       "  </tbody>\n",
       "</table>\n",
       "</div>"
      ],
      "text/plain": [
       "     tag                                             Xgrams  \\\n",
       "93     8                                              [[8]]   \n",
       "94  UFHM  [[U, F, H, M], [UF, H, M], [FH, U, M], [HM, U,...   \n",
       "95   UFT               [[U, F, T], [UF, T], [FT, U], [UFT]]   \n",
       "96   MSP               [[M, S, P], [MS, P], [SP, M], [MSP]]   \n",
       "97   MV_                                     [[M, V], [MV]]   \n",
       "\n",
       "                                       ngram  \n",
       "93                                       [8]  \n",
       "94  [U, F, H, M, UF, FH, HM, UFH, FHM, UFHM]  \n",
       "95                    [U, F, T, UF, FT, UFT]  \n",
       "96                    [M, S, P, MS, SP, MSP]  \n",
       "97                    [M, V, _, MV, V_, MV_]  "
      ]
     },
     "execution_count": 18,
     "metadata": {},
     "output_type": "execute_result"
    }
   ],
   "source": [
    "OPCtag['ngram'] = OPCtag['tag']\n",
    "for i in OPCtag.index:\n",
    "    ngram = []\n",
    "    for n in range(1,min(7,len(OPCtag['tag'][i])+1)):\n",
    "        grams = ngrams(OPCtag.loc[i,('tag')],n)\n",
    "        for gram in grams:\n",
    "            ngram.append(''.join(list(gram)))\n",
    "    OPCtag.at[i,'ngram'] = ngram\n",
    "OPCtag.tail()"
   ]
  },
  {
   "cell_type": "code",
   "execution_count": 19,
   "metadata": {
    "collapsed": true
   },
   "outputs": [],
   "source": [
    "top7 = pd.DataFrame(columns = ['input','abbs','matches'])\n",
    "ls = truth['input'].unique()\n",
    "# add some input variables to map\n",
    "for i in range(len(ls)):\n",
    "    test = onNgram(ls[i],OPCtag,7)\n",
    "#     print(i,end=' ')\n",
    "#     print(test[1])\n",
    "    top7.loc[i,'input'] = ls[i]\n",
    "    top7.loc[i,'abbs'] = test[2]\n",
    "    top7.loc[i,'matches'] = test[0]\n",
    "#     result.loc[i,'detail'] = test[1]\n",
    "top7 = top7.join(truth.set_index('input'), on='input')"
   ]
  },
  {
   "cell_type": "code",
   "execution_count": 20,
   "metadata": {
    "collapsed": false
   },
   "outputs": [
    {
     "data": {
      "text/plain": [
       "FP     439\n",
       "TP      12\n",
       "TN       8\n",
       "FP1      7\n",
       "Name: test, dtype: int64"
      ]
     },
     "execution_count": 20,
     "metadata": {},
     "output_type": "execute_result"
    }
   ],
   "source": [
    "t7 = check(top7)\n",
    "t7['test'].value_counts()"
   ]
  },
  {
   "cell_type": "code",
   "execution_count": 21,
   "metadata": {
    "collapsed": false
   },
   "outputs": [
    {
     "data": {
      "text/plain": [
       "FP     439\n",
       "FP1     10\n",
       "TP       9\n",
       "TN       8\n",
       "Name: test, dtype: int64"
      ]
     },
     "execution_count": 21,
     "metadata": {},
     "output_type": "execute_result"
    }
   ],
   "source": [
    "t7 = check1(top7)\n",
    "t7['test'].value_counts()"
   ]
  },
  {
   "cell_type": "code",
   "execution_count": null,
   "metadata": {
    "collapsed": true
   },
   "outputs": [],
   "source": []
  },
  {
   "cell_type": "code",
   "execution_count": 35,
   "metadata": {
    "collapsed": false
   },
   "outputs": [
    {
     "data": {
      "text/html": [
       "<div>\n",
       "<style scoped>\n",
       "    .dataframe tbody tr th:only-of-type {\n",
       "        vertical-align: middle;\n",
       "    }\n",
       "\n",
       "    .dataframe tbody tr th {\n",
       "        vertical-align: top;\n",
       "    }\n",
       "\n",
       "    .dataframe thead th {\n",
       "        text-align: right;\n",
       "    }\n",
       "</style>\n",
       "<table border=\"1\" class=\"dataframe\">\n",
       "  <thead>\n",
       "    <tr style=\"text-align: right;\">\n",
       "      <th></th>\n",
       "      <th>input</th>\n",
       "      <th>abbs</th>\n",
       "      <th>matches</th>\n",
       "      <th>truth</th>\n",
       "      <th>test</th>\n",
       "    </tr>\n",
       "  </thead>\n",
       "  <tbody>\n",
       "    <tr>\n",
       "      <th>149</th>\n",
       "      <td>supply side inlet temperature</td>\n",
       "      <td>[{FWD, S, SUP}, {FWD, S}, {T, TEMP, TMP}, {R}]</td>\n",
       "      <td>[RMTEMP, SATEMP, SS, RMTEMPSPB, RATEMPSP, RMTE...</td>\n",
       "      <td>[RATEMP]</td>\n",
       "      <td>FP1</td>\n",
       "    </tr>\n",
       "    <tr>\n",
       "      <th>167</th>\n",
       "      <td>air outlet node temperature</td>\n",
       "      <td>[{A}, {R}, {T, TEMP, TMP}]</td>\n",
       "      <td>[RMTEMPSP, ATEMPSP, RATEMPLOALM, RMTEMP, SATEM...</td>\n",
       "      <td>[OCTEMP]</td>\n",
       "      <td>FP1</td>\n",
       "    </tr>\n",
       "    <tr>\n",
       "      <th>203</th>\n",
       "      <td>water outlet node temperature</td>\n",
       "      <td>[{WATER, WTR}, {R}, {T, TEMP, TMP}]</td>\n",
       "      <td>[TRIP, WATERDETALM, RMTEMPSPB, RATEMPSP, RMTEM...</td>\n",
       "      <td>[BMRETTMP]</td>\n",
       "      <td>FP1</td>\n",
       "    </tr>\n",
       "    <tr>\n",
       "      <th>431</th>\n",
       "      <td>outlet temperature</td>\n",
       "      <td>[{R}, {T, TEMP, TMP}]</td>\n",
       "      <td>[TMP, TRIP, RMTEMPSPB, RATEMPSP, RMTEMPSP, RAT...</td>\n",
       "      <td>[OCTEMP]</td>\n",
       "      <td>FP1</td>\n",
       "    </tr>\n",
       "  </tbody>\n",
       "</table>\n",
       "</div>"
      ],
      "text/plain": [
       "                             input  \\\n",
       "149  supply side inlet temperature   \n",
       "167    air outlet node temperature   \n",
       "203  water outlet node temperature   \n",
       "431             outlet temperature   \n",
       "\n",
       "                                               abbs  \\\n",
       "149  [{FWD, S, SUP}, {FWD, S}, {T, TEMP, TMP}, {R}]   \n",
       "167                      [{A}, {R}, {T, TEMP, TMP}]   \n",
       "203             [{WATER, WTR}, {R}, {T, TEMP, TMP}]   \n",
       "431                           [{R}, {T, TEMP, TMP}]   \n",
       "\n",
       "                                               matches       truth test  \n",
       "149  [RMTEMP, SATEMP, SS, RMTEMPSPB, RATEMPSP, RMTE...    [RATEMP]  FP1  \n",
       "167  [RMTEMPSP, ATEMPSP, RATEMPLOALM, RMTEMP, SATEM...    [OCTEMP]  FP1  \n",
       "203  [TRIP, WATERDETALM, RMTEMPSPB, RATEMPSP, RMTEM...  [BMRETTMP]  FP1  \n",
       "431  [TMP, TRIP, RMTEMPSPB, RATEMPSP, RMTEMPSP, RAT...    [OCTEMP]  FP1  "
      ]
     },
     "execution_count": 35,
     "metadata": {},
     "output_type": "execute_result"
    }
   ],
   "source": [
    "top7[top7['test']=='FP1']"
   ]
  },
  {
   "cell_type": "code",
   "execution_count": 27,
   "metadata": {
    "collapsed": false
   },
   "outputs": [
    {
     "data": {
      "text/html": [
       "<div>\n",
       "<style scoped>\n",
       "    .dataframe tbody tr th:only-of-type {\n",
       "        vertical-align: middle;\n",
       "    }\n",
       "\n",
       "    .dataframe tbody tr th {\n",
       "        vertical-align: top;\n",
       "    }\n",
       "\n",
       "    .dataframe thead th {\n",
       "        text-align: right;\n",
       "    }\n",
       "</style>\n",
       "<table border=\"1\" class=\"dataframe\">\n",
       "  <thead>\n",
       "    <tr style=\"text-align: right;\">\n",
       "      <th></th>\n",
       "      <th>input</th>\n",
       "      <th>abbs</th>\n",
       "      <th>matches</th>\n",
       "      <th>truth</th>\n",
       "      <th>test</th>\n",
       "    </tr>\n",
       "  </thead>\n",
       "  <tbody>\n",
       "    <tr>\n",
       "      <th>110</th>\n",
       "      <td>supply inlet setpoint temperature</td>\n",
       "      <td>[{SUP, FWD, S}, {FWD, S}, {SP}, {TMP, TEMP, T}]</td>\n",
       "      <td>[RMTEMPSP, SATEMP, ATEMPSP, SASTATICSP, SS, TM...</td>\n",
       "      <td>[SATEMPSP]</td>\n",
       "      <td>FP1</td>\n",
       "    </tr>\n",
       "    <tr>\n",
       "      <th>146</th>\n",
       "      <td>supply side outlet setpoint temperature</td>\n",
       "      <td>[{S}, {SP}, {TMP, TEMP, T}]</td>\n",
       "      <td>[RMTEMPSPB, STS, RATEMPSP, RMTEMPSP, SATEMP, A...</td>\n",
       "      <td>[SATEMPSP]</td>\n",
       "      <td>FP1</td>\n",
       "    </tr>\n",
       "    <tr>\n",
       "      <th>147</th>\n",
       "      <td>supply side outlet relative humidity</td>\n",
       "      <td>[{S}, {RH}]</td>\n",
       "      <td>[SMKDET, TMPSP, AFS, STS, VSD, RARH, SS]</td>\n",
       "      <td>[RATEMPSP]</td>\n",
       "      <td>FP1</td>\n",
       "    </tr>\n",
       "    <tr>\n",
       "      <th>153</th>\n",
       "      <td>supply side inlet relative humidity</td>\n",
       "      <td>[{R}, {RH}]</td>\n",
       "      <td>[RATEMP, RMTEMP, BMPWR, RACO2, DMPR, TRIP, RARH]</td>\n",
       "      <td>[RATEMPSP]</td>\n",
       "      <td>FP1</td>\n",
       "    </tr>\n",
       "    <tr>\n",
       "      <th>167</th>\n",
       "      <td>air outlet node temperature</td>\n",
       "      <td>[{A}, {R, RET}, {TMP, TEMP, T}]</td>\n",
       "      <td>[ATEMPSP, BMRETTMP, RATEMPLOALM, RMTEMP, SATEM...</td>\n",
       "      <td>[OCTEMP]</td>\n",
       "      <td>FP1</td>\n",
       "    </tr>\n",
       "    <tr>\n",
       "      <th>431</th>\n",
       "      <td>outlet temperature</td>\n",
       "      <td>[{R, RET}, {TMP, TEMP, T}]</td>\n",
       "      <td>[TRIP, RMTEMPSPB, RATEMPSP, RMTEMPSP, BMRETTMP...</td>\n",
       "      <td>[OCTEMP]</td>\n",
       "      <td>FP1</td>\n",
       "    </tr>\n",
       "  </tbody>\n",
       "</table>\n",
       "</div>"
      ],
      "text/plain": [
       "                                       input  \\\n",
       "110        supply inlet setpoint temperature   \n",
       "146  supply side outlet setpoint temperature   \n",
       "147     supply side outlet relative humidity   \n",
       "153      supply side inlet relative humidity   \n",
       "167              air outlet node temperature   \n",
       "431                       outlet temperature   \n",
       "\n",
       "                                                abbs  \\\n",
       "110  [{SUP, FWD, S}, {FWD, S}, {SP}, {TMP, TEMP, T}]   \n",
       "146                      [{S}, {SP}, {TMP, TEMP, T}]   \n",
       "147                                      [{S}, {RH}]   \n",
       "153                                      [{R}, {RH}]   \n",
       "167                  [{A}, {R, RET}, {TMP, TEMP, T}]   \n",
       "431                       [{R, RET}, {TMP, TEMP, T}]   \n",
       "\n",
       "                                               matches       truth test  \n",
       "110  [RMTEMPSP, SATEMP, ATEMPSP, SASTATICSP, SS, TM...  [SATEMPSP]  FP1  \n",
       "146  [RMTEMPSPB, STS, RATEMPSP, RMTEMPSP, SATEMP, A...  [SATEMPSP]  FP1  \n",
       "147           [SMKDET, TMPSP, AFS, STS, VSD, RARH, SS]  [RATEMPSP]  FP1  \n",
       "153   [RATEMP, RMTEMP, BMPWR, RACO2, DMPR, TRIP, RARH]  [RATEMPSP]  FP1  \n",
       "167  [ATEMPSP, BMRETTMP, RATEMPLOALM, RMTEMP, SATEM...    [OCTEMP]  FP1  \n",
       "431  [TRIP, RMTEMPSPB, RATEMPSP, RMTEMPSP, BMRETTMP...    [OCTEMP]  FP1  "
      ]
     },
     "execution_count": 27,
     "metadata": {},
     "output_type": "execute_result"
    }
   ],
   "source": [
    "top7[top7['test']=='FP1']"
   ]
  },
  {
   "cell_type": "code",
   "execution_count": 55,
   "metadata": {
    "collapsed": true
   },
   "outputs": [],
   "source": [
    "t7.to_csv('TOcheck.csv')"
   ]
  },
  {
   "cell_type": "code",
   "execution_count": null,
   "metadata": {
    "collapsed": true
   },
   "outputs": [],
   "source": []
  }
 ],
 "metadata": {
  "anaconda-cloud": {},
  "kernelspec": {
   "display_name": "Python [default]",
   "language": "python",
   "name": "python3"
  },
  "language_info": {
   "codemirror_mode": {
    "name": "ipython",
    "version": 3
   },
   "file_extension": ".py",
   "mimetype": "text/x-python",
   "name": "python",
   "nbconvert_exporter": "python",
   "pygments_lexer": "ipython3",
   "version": "3.5.2"
  }
 },
 "nbformat": 4,
 "nbformat_minor": 2
}
