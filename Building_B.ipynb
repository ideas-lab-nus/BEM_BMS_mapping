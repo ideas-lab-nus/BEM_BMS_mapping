{
 "cells": [
  {
   "cell_type": "code",
   "execution_count": 1,
   "metadata": {
    "collapsed": true
   },
   "outputs": [],
   "source": [
    "import numpy as np\n",
    "import matplotlib.pyplot as plt\n",
    "import pandas as pd\n",
    "import datetime as dt\n",
    "import matplotlib.dates as mdates\n",
    "import re\n",
    "import sklearn.cluster\n",
    "from nltk import ngrams\n",
    "from eppy import modeleditor\n",
    "from eppy.modeleditor import IDF\n",
    "IDF.setiddname('C:/EnergyPlusV8-8-0/Energy+.idd')\n",
    "\n",
    "import warnings\n",
    "warnings.simplefilter(action='ignore', category=DeprecationWarning)\n",
    "\n",
    "%matplotlib inline"
   ]
  },
  {
   "cell_type": "markdown",
   "metadata": {},
   "source": [
    "# on Tagnames"
   ]
  },
  {
   "cell_type": "code",
   "execution_count": 2,
   "metadata": {
    "scrolled": true
   },
   "outputs": [
    {
     "data": {
      "text/html": [
       "<div>\n",
       "<style scoped>\n",
       "    .dataframe tbody tr th:only-of-type {\n",
       "        vertical-align: middle;\n",
       "    }\n",
       "\n",
       "    .dataframe tbody tr th {\n",
       "        vertical-align: top;\n",
       "    }\n",
       "\n",
       "    .dataframe thead th {\n",
       "        text-align: right;\n",
       "    }\n",
       "</style>\n",
       "<table border=\"1\" class=\"dataframe\">\n",
       "  <thead>\n",
       "    <tr style=\"text-align: right;\">\n",
       "      <th></th>\n",
       "      <th>raw</th>\n",
       "      <th>tag</th>\n",
       "    </tr>\n",
       "  </thead>\n",
       "  <tbody>\n",
       "    <tr>\n",
       "      <th>0</th>\n",
       "      <td>WEATHER STATION.OA_CO2</td>\n",
       "      <td>OA_CO2</td>\n",
       "    </tr>\n",
       "    <tr>\n",
       "      <th>1</th>\n",
       "      <td>WEATHER STATION.RAINFAIL</td>\n",
       "      <td>RAINFAIL</td>\n",
       "    </tr>\n",
       "    <tr>\n",
       "      <th>2</th>\n",
       "      <td>Weather Station.Wind speed</td>\n",
       "      <td>Wind speed</td>\n",
       "    </tr>\n",
       "    <tr>\n",
       "      <th>3</th>\n",
       "      <td>Weather Station.Wind direction in degrees</td>\n",
       "      <td>Wind direction in degrees</td>\n",
       "    </tr>\n",
       "    <tr>\n",
       "      <th>4</th>\n",
       "      <td>Weather Station.Temp</td>\n",
       "      <td>Temp</td>\n",
       "    </tr>\n",
       "  </tbody>\n",
       "</table>\n",
       "</div>"
      ],
      "text/plain": [
       "                                         raw                        tag\n",
       "0                     WEATHER STATION.OA_CO2                     OA_CO2\n",
       "1                   WEATHER STATION.RAINFAIL                   RAINFAIL\n",
       "2                 Weather Station.Wind speed                 Wind speed\n",
       "3  Weather Station.Wind direction in degrees  Wind direction in degrees\n",
       "4                       Weather Station.Temp                       Temp"
      ]
     },
     "execution_count": 2,
     "metadata": {},
     "output_type": "execute_result"
    }
   ],
   "source": [
    "raw = pd.read_csv('SDE4.csv')\n",
    "OPCtag = raw.copy()\n",
    "OPCtag['tag'] = OPCtag['raw']\n",
    "OPCtag['tag'] = OPCtag['tag'].apply(lambda x: x.split('.')[-1])\n",
    "OPCtag['tag'][188:332] = OPCtag['tag'][188:332].apply(lambda x: '_'.join(x.split('_')[3:]))\n",
    "\n",
    "OPCtag.head()"
   ]
  },
  {
   "cell_type": "code",
   "execution_count": 3,
   "metadata": {
    "collapsed": true
   },
   "outputs": [],
   "source": [
    "from itertools import combinations\n",
    "def razors(string):\n",
    "    m = len(string)-1\n",
    "    result = []\n",
    "    for k in range(min(m+1,7)):\n",
    "        for bits in combinations(range(m), k):\n",
    "            s = [1] * m\n",
    "            for bit in bits:\n",
    "                s[bit] = 0\n",
    "            result.append(s)\n",
    "    return result\n",
    "\n",
    "def Xgrams(string):\n",
    "    string = ''.join(re.split('[ _,:]',string))\n",
    "    ngrams = []\n",
    "    for item in razors(string):\n",
    "        ngram = []\n",
    "        flag = 0\n",
    "        for i in range(len(item)):\n",
    "            if item[i]:\n",
    "                ngram.append(string[flag:i+1])\n",
    "                flag = i+1\n",
    "        ngram.append(string[flag:])\n",
    "        ngram.sort(key = len,reverse=True)   # so that the longer substrings get matched first\n",
    "        ngrams.append(ngram)\n",
    "    return ngrams"
   ]
  },
  {
   "cell_type": "code",
   "execution_count": 4,
   "metadata": {},
   "outputs": [
    {
     "data": {
      "text/html": [
       "<div>\n",
       "<style scoped>\n",
       "    .dataframe tbody tr th:only-of-type {\n",
       "        vertical-align: middle;\n",
       "    }\n",
       "\n",
       "    .dataframe tbody tr th {\n",
       "        vertical-align: top;\n",
       "    }\n",
       "\n",
       "    .dataframe thead th {\n",
       "        text-align: right;\n",
       "    }\n",
       "</style>\n",
       "<table border=\"1\" class=\"dataframe\">\n",
       "  <thead>\n",
       "    <tr style=\"text-align: right;\">\n",
       "      <th></th>\n",
       "      <th>raw</th>\n",
       "      <th>tag</th>\n",
       "      <th>Xgrams</th>\n",
       "    </tr>\n",
       "  </thead>\n",
       "  <tbody>\n",
       "    <tr>\n",
       "      <th>180</th>\n",
       "      <td>SDE4 MSB1.MSB1 kWh Net Balance</td>\n",
       "      <td>MSB1 KWH NET BALANCE</td>\n",
       "      <td>MSB1 KWH NET BALANCE</td>\n",
       "    </tr>\n",
       "    <tr>\n",
       "      <th>181</th>\n",
       "      <td>SDE4 MSB2.MSB2 kWh Net Delivered</td>\n",
       "      <td>MSB2 KWH NET DELIVERED</td>\n",
       "      <td>MSB2 KWH NET DELIVERED</td>\n",
       "    </tr>\n",
       "    <tr>\n",
       "      <th>182</th>\n",
       "      <td>SDE4 MSB2.MSB2 kWh Net Received</td>\n",
       "      <td>MSB2 KWH NET RECEIVED</td>\n",
       "      <td>MSB2 KWH NET RECEIVED</td>\n",
       "    </tr>\n",
       "    <tr>\n",
       "      <th>183</th>\n",
       "      <td>SDE4 MSB2.MSB2 kWh Net Balance</td>\n",
       "      <td>MSB2 KWH NET BALANCE</td>\n",
       "      <td>MSB2 KWH NET BALANCE</td>\n",
       "    </tr>\n",
       "    <tr>\n",
       "      <th>184</th>\n",
       "      <td>SDE4 Net Elec Energy Balance.SDE4 Net Elec Ene...</td>\n",
       "      <td>SDE4 NET ELEC ENERGY BALANCE</td>\n",
       "      <td>SDE4 NET ELEC ENERGY BALANCE</td>\n",
       "    </tr>\n",
       "    <tr>\n",
       "      <th>185</th>\n",
       "      <td>SDE4 Main BTU.Main BTU Energy in kWh Net</td>\n",
       "      <td>MAIN BTU ENERGY IN KWH NET</td>\n",
       "      <td>MAIN BTU ENERGY IN KWH NET</td>\n",
       "    </tr>\n",
       "    <tr>\n",
       "      <th>186</th>\n",
       "      <td>SDE4 Main BTU.BTU Cooling Elec Energy</td>\n",
       "      <td>BTU COOLING ELEC ENERGY</td>\n",
       "      <td>BTU COOLING ELEC ENERGY</td>\n",
       "    </tr>\n",
       "    <tr>\n",
       "      <th>187</th>\n",
       "      <td>SDE4 Net Energy Balance.SDE4 Net Energy Balance</td>\n",
       "      <td>SDE4 NET ENERGY BALANCE</td>\n",
       "      <td>SDE4 NET ENERGY BALANCE</td>\n",
       "    </tr>\n",
       "    <tr>\n",
       "      <th>188</th>\n",
       "      <td>PAHU_L2_01_CMD</td>\n",
       "      <td>CMD</td>\n",
       "      <td>[[C, M, D], [CM, D], [MD, C], [CMD]]</td>\n",
       "    </tr>\n",
       "    <tr>\n",
       "      <th>189</th>\n",
       "      <td>PAHU_L2_01_PFILT</td>\n",
       "      <td>PFILT</td>\n",
       "      <td>[[P, F, I, L, T], [PF, I, L, T], [FI, P, L, T]...</td>\n",
       "    </tr>\n",
       "  </tbody>\n",
       "</table>\n",
       "</div>"
      ],
      "text/plain": [
       "                                                   raw  \\\n",
       "180                     SDE4 MSB1.MSB1 kWh Net Balance   \n",
       "181                   SDE4 MSB2.MSB2 kWh Net Delivered   \n",
       "182                    SDE4 MSB2.MSB2 kWh Net Received   \n",
       "183                     SDE4 MSB2.MSB2 kWh Net Balance   \n",
       "184  SDE4 Net Elec Energy Balance.SDE4 Net Elec Ene...   \n",
       "185           SDE4 Main BTU.Main BTU Energy in kWh Net   \n",
       "186              SDE4 Main BTU.BTU Cooling Elec Energy   \n",
       "187    SDE4 Net Energy Balance.SDE4 Net Energy Balance   \n",
       "188                                     PAHU_L2_01_CMD   \n",
       "189                                   PAHU_L2_01_PFILT   \n",
       "\n",
       "                              tag  \\\n",
       "180          MSB1 KWH NET BALANCE   \n",
       "181        MSB2 KWH NET DELIVERED   \n",
       "182         MSB2 KWH NET RECEIVED   \n",
       "183          MSB2 KWH NET BALANCE   \n",
       "184  SDE4 NET ELEC ENERGY BALANCE   \n",
       "185    MAIN BTU ENERGY IN KWH NET   \n",
       "186       BTU COOLING ELEC ENERGY   \n",
       "187       SDE4 NET ENERGY BALANCE   \n",
       "188                           CMD   \n",
       "189                         PFILT   \n",
       "\n",
       "                                                Xgrams  \n",
       "180                               MSB1 KWH NET BALANCE  \n",
       "181                             MSB2 KWH NET DELIVERED  \n",
       "182                              MSB2 KWH NET RECEIVED  \n",
       "183                               MSB2 KWH NET BALANCE  \n",
       "184                       SDE4 NET ELEC ENERGY BALANCE  \n",
       "185                         MAIN BTU ENERGY IN KWH NET  \n",
       "186                            BTU COOLING ELEC ENERGY  \n",
       "187                            SDE4 NET ENERGY BALANCE  \n",
       "188               [[C, M, D], [CM, D], [MD, C], [CMD]]  \n",
       "189  [[P, F, I, L, T], [PF, I, L, T], [FI, P, L, T]...  "
      ]
     },
     "execution_count": 4,
     "metadata": {},
     "output_type": "execute_result"
    }
   ],
   "source": [
    "OPCtag['tag'] = OPCtag['tag'].apply(lambda x: str.upper(x))\n",
    "OPCtag['Xgrams'] = OPCtag['tag']\n",
    "OPCtag['Xgrams'][188:332] = OPCtag['tag'][188:332].apply(lambda x: Xgrams(x))\n",
    "# OPCtag = OPCtag[OPCtag['tag'].str.len()<7]\n",
    "OPCtag[180:190]"
   ]
  },
  {
   "cell_type": "code",
   "execution_count": 41,
   "metadata": {
    "collapsed": true,
    "scrolled": true
   },
   "outputs": [],
   "source": [
    "# OPCtag.to_csv('med.csv')\n",
    "# OPCtag.groupby('tag')['raw','Xgrams'].max().to_csv('med.csv')"
   ]
  },
  {
   "cell_type": "markdown",
   "metadata": {},
   "source": [
    "# create dict"
   ]
  },
  {
   "cell_type": "code",
   "execution_count": 5,
   "metadata": {
    "collapsed": true
   },
   "outputs": [],
   "source": [
    "def updateABB(abb,full):\n",
    "    global ABBdict\n",
    "    for i in full:\n",
    "        if i in list(ABBdict['name']):\n",
    "            ABBdict['abb'].loc[ABBdict['name']==i].item().add(abb[full.index(i)])\n",
    "        else:\n",
    "            ABBdict = ABBdict.append({'abb': set([abb[full.index(i)]]),'name':i}, ignore_index=True)"
   ]
  },
  {
   "cell_type": "code",
   "execution_count": 6,
   "metadata": {
    "collapsed": true
   },
   "outputs": [],
   "source": [
    "dict1 = pd.read_csv('HVACacronym.csv')\n",
    "dict2 = pd.read_csv('HVACacronym1.csv')\n",
    "\n",
    "dict1['full']=dict1['full'].apply(lambda x: str.lower(x))\n",
    "dict2['name']=dict2['name'].apply(lambda x: str.lower(x))\n",
    "\n",
    "ABBdict = pd.concat([dict1.rename({'full':'name'}, axis='columns'),dict2])\n",
    "ABBdict['abb']= ABBdict[['abb']].values.tolist()\n",
    "ABBdict = pd.DataFrame(ABBdict.groupby('name')['abb'].sum())\n",
    "ABBdict['name']=ABBdict.index\n",
    "ABBdict.rename(index=str, columns={0: \"abb\"},inplace=True)\n",
    "ABBdict['abb']= ABBdict['abb'].apply(lambda x: set(x))\n",
    "\n",
    "ABBdict.reset_index(drop=True,inplace=True)"
   ]
  },
  {
   "cell_type": "code",
   "execution_count": 7,
   "metadata": {
    "collapsed": true
   },
   "outputs": [],
   "source": [
    "abb = ['OC','TMP','TEMP','SA','STATIC','RA','RH','RM','BM','FLWR','RET','KWATT','KWHR','PM','ENGRY','FWD','PWR','AHU',\n",
    "      'FAN','SPEED','BYP','CLG','WATER','VLV','TP','SMK','FA','PM','BM','CURR','VOLT','PW']\n",
    "full=['off coil','temperature','temperature','supply air','pressure','return air','relative humidity','room',\n",
    "      'btu meter','flow rate','return','power','energy','power meter','energy','supply','power','ahu',\n",
    "      'fan','speed','bypass','cooling','water','valve','time program','smoke','fresh air','power meter','btu meter',\n",
    "      'current','voltage','power']\n",
    "updateABB(abb,full)\n",
    "\n",
    "EPname = ['zone','air','coil','energy','heating','cooling','air terminal','pump','boiler','condenser','setpoint',\n",
    "          'heat exchanger','humidifier','heater','water','people','window','infiltration','equipment','outdoor',\n",
    "          'drybulb','dewpoint','speed','angle','radiation','pressure','precipitation','occupant','lights',\n",
    "          'humidity ratio','facility','mass flow rate','interior','gas','office','room','level','extract',\n",
    "          'fan','supply','air loop','site','power','radiant','fan coil unit','indoor','heat pump',\n",
    "          'vav','vrf','return','inlet','outlet','relief air','rate']\n",
    "\n",
    "EPabb = ['RM','A','C','KWHR','HT','CL','VAV','PMP','B','COND','SP','HX','HUMID','HTR','WTR','PPL','WD','INFIL',\n",
    "        'EQUIP','O','DB','DP','SPD','AGL','R','PR','P','OCC','LT','HR','FAC','FLWR','INTR','G','OFC','RM','LV',\n",
    "        'E','F','S','AHU','LOC','KWATT','R','FCU','I','CU','VAV','VRF','R','S','R','EA','KW']\n",
    "updateABB(EPabb,EPname)\n",
    "\n",
    "NODEname = ['supply side inlet','supply side outlet','coil air outlet','mixed inlet','splitter outlet',\n",
    "           'coil outlet','inlet','outlet']\n",
    "\n",
    "NODEabb = ['R','S','OC','R','S','S','FWD','RET']\n",
    "\n",
    "updateABB(NODEabb,NODEname)\n",
    "\n",
    "testName = ['electricity','energy','power','demand','rate','coil air outlet','coil outlet']\n",
    "\n",
    "testABB = ['KWHR','ENGRY','PWR','ENGRY','PWR','S','OC']\n",
    "\n",
    "updateABB(testABB,testName)"
   ]
  },
  {
   "cell_type": "code",
   "execution_count": 8,
   "metadata": {
    "collapsed": true
   },
   "outputs": [],
   "source": [
    "iwName = ['dewpoint','relative humidity','humidity ratio','wind','direction','global','solar',\n",
    "          'zone','electricity','water','mass flow rate']\n",
    "iwABB = ['DWP','HM','HM','W','DIREC','GLO','S','R','TOTKW','W','FL']\n",
    "updateABB(iwABB,iwName)\n",
    "\n",
    "iwName = ['humidity ratio','relative humidity','mass flow rate']\n",
    "iwABB = ['HUM','HUM','FLO']\n",
    "updateABB(iwABB,iwName)"
   ]
  },
  {
   "cell_type": "code",
   "execution_count": 9,
   "metadata": {
    "collapsed": true
   },
   "outputs": [],
   "source": [
    "sdeName = ['temperature','dewpoint','relative humidity','humidity ratio','pressure','barometric','wind','direction',\n",
    "          'solar','radiation','precipitation','electricity','energy','purchased','net','produced']\n",
    "sdeABB = ['TEMPERATURE','DEW','HUMIDITY','HUMIDITY','PRESSURE','BAROMETRIC','WIND','DIRECTION','SOLAR',\n",
    "         'RADIATION','PRECIPITATION','POWER','ENERGY','RECEIVED','BALANCE','DELIVERED']\n",
    "updateABB(sdeABB,sdeName)\n",
    "\n",
    "sdeABB = ['KWH','SP']\n",
    "sdeName = ['electricity','pressure']\n",
    "updateABB(sdeABB,sdeName)\n",
    "\n",
    "# ABBdict[ABBdict['name'].str.contains('dew')]"
   ]
  },
  {
   "cell_type": "markdown",
   "metadata": {},
   "source": [
    "# map"
   ]
  },
  {
   "cell_type": "code",
   "execution_count": 10,
   "metadata": {
    "collapsed": true
   },
   "outputs": [],
   "source": [
    "def match(s,OPCtag,th):\n",
    "    \n",
    "    ngram = []\n",
    "    for i in range(3,0,-1):\n",
    "        grams = ngrams(s.split(' '),i)\n",
    "        for gram in grams:\n",
    "            ngram.append(' '.join(list(gram)))\n",
    "    \n",
    "#     ngram.sort(key = lambda s: len(s),reverse = True)\n",
    "    ABBs = []\n",
    "    while len(ngram)>0:\n",
    "        i = ngram[0]\n",
    "        ngram.remove(i)\n",
    "#         print(ngram)\n",
    "        try:\n",
    "            ABBs.append(ABBdict.loc[ABBdict['name'] == i,'abb'].values[0])\n",
    "            ngram = [s for s in ngram if (s not in i)]\n",
    "        except:\n",
    "            pass\n",
    "\n",
    "    details = []\n",
    "    for i in OPCtag.index:\n",
    "        r = 0\n",
    "        if i >187 and i <332:\n",
    "            idx = 0\n",
    "            m = 0\n",
    "            for j in range(len(OPCtag['Xgrams'][i])):\n",
    "                used = [0]*len(ABBs)    # so that a set of ABBs is only matched once\n",
    "                count = 0\n",
    "                for gram in OPCtag.loc[i,'Xgrams'][j]:\n",
    "                    for c in range(len(ABBs)):\n",
    "                        if gram in ABBs[c] and used[c]==0:\n",
    "                            used[c] = 1\n",
    "                            count += len(gram)\n",
    "                            break\n",
    "                if count > m:\n",
    "                    m = count # to avoid division by zero error\n",
    "                    # harmonic average of ratio on both side\n",
    "                    r = 2/(len(ABBs)/sum(used) + len(OPCtag['tag'][i])/m)\n",
    "                    idx = j\n",
    "            if r >= .01:\n",
    "                details.append([round(r,4),OPCtag['tag'][i],tuple(OPCtag['Xgrams'][i][idx])])\n",
    "        else:\n",
    "            used = [0]*len(ABBs)\n",
    "            m=0\n",
    "            for s in OPCtag['Xgrams'][i].split(' '):\n",
    "                for c in range(len(ABBs)):\n",
    "                    if s in ABBs[c] and used[c]==0:\n",
    "                        used[c] = 1\n",
    "                        m += 1\n",
    "                        break\n",
    "            if m > 0:\n",
    "                r = 2/(len(ABBs)/ sum(used) + len(OPCtag['Xgrams'][i].split(' '))/m)\n",
    "                details.append([round(r,4),OPCtag['tag'][i],tuple(OPCtag['Xgrams'][i].split(' '))])\n",
    "\n",
    "    details = list(set(tuple(x) for x in details))\n",
    "    details.sort()\n",
    "    matches = [i[1] for i in details][-th:] #top 10 vs top 7 (10%) tested\n",
    "\n",
    "    return [matches,details,ABBs]"
   ]
  },
  {
   "cell_type": "code",
   "execution_count": 25,
   "metadata": {
    "collapsed": true
   },
   "outputs": [],
   "source": [
    "def check(result):\n",
    "    for i in result.index:\n",
    "        if len(result.loc[i,'matches']) == 0:\n",
    "            if result.loc[i,'truth'] in [np.nan]:\n",
    "                result.loc[i,'test'] = 'TN'\n",
    "            else:\n",
    "                result.loc[i,'test'] = 'FN'\n",
    "        elif result.loc[i,'truth'] in [np.nan]:\n",
    "            result.loc[i,'test'] = 'FP'\n",
    "        elif result.loc[i,'truth'] in result.loc[i,'matches']:\n",
    "            result.loc[i,'test'] = 'TP'\n",
    "        else:\n",
    "            result.loc[i,'test'] = 'FP1'\n",
    "    return result"
   ]
  },
  {
   "cell_type": "markdown",
   "metadata": {},
   "source": [
    "# reading E+ outputs"
   ]
  },
  {
   "cell_type": "code",
   "execution_count": 12,
   "metadata": {
    "collapsed": true
   },
   "outputs": [],
   "source": [
    "truth = pd.read_csv('truthSDE.csv')\n",
    "truth.drop(columns=['alter'],inplace = True)\n",
    "# truth[truth['truth'].str.len()>1]"
   ]
  },
  {
   "cell_type": "code",
   "execution_count": 13,
   "metadata": {
    "collapsed": true
   },
   "outputs": [],
   "source": [
    "top7 = pd.DataFrame(columns = ['input','abbs','matches'])\n",
    "ls = truth['input'].unique()\n",
    "# add some input variables to map\n",
    "for i in range(len(ls)):\n",
    "    test = match(ls[i],OPCtag,7)\n",
    "#     print(i,end=' ')\n",
    "#     print(test[1])\n",
    "    top7.loc[i,'input'] = ls[i]\n",
    "    top7.loc[i,'abbs'] = test[2]\n",
    "    top7.loc[i,'matches'] = test[0]\n",
    "#     result.loc[i,'detail'] = test[1]\n",
    "top7 = top7.join(truth.set_index('input'), on='input')"
   ]
  },
  {
   "cell_type": "code",
   "execution_count": 14,
   "metadata": {
    "scrolled": true
   },
   "outputs": [
    {
     "data": {
      "text/plain": [
       "FP     427\n",
       "TP      26\n",
       "TN      10\n",
       "FP1      3\n",
       "Name: test, dtype: int64"
      ]
     },
     "execution_count": 14,
     "metadata": {},
     "output_type": "execute_result"
    }
   ],
   "source": [
    "t7 = check(top7)\n",
    "t7['test'].value_counts()"
   ]
  },
  {
   "cell_type": "code",
   "execution_count": 15,
   "metadata": {},
   "outputs": [
    {
     "data": {
      "text/html": [
       "<div>\n",
       "<style scoped>\n",
       "    .dataframe tbody tr th:only-of-type {\n",
       "        vertical-align: middle;\n",
       "    }\n",
       "\n",
       "    .dataframe tbody tr th {\n",
       "        vertical-align: top;\n",
       "    }\n",
       "\n",
       "    .dataframe thead th {\n",
       "        text-align: right;\n",
       "    }\n",
       "</style>\n",
       "<table border=\"1\" class=\"dataframe\">\n",
       "  <thead>\n",
       "    <tr style=\"text-align: right;\">\n",
       "      <th></th>\n",
       "      <th>input</th>\n",
       "      <th>abbs</th>\n",
       "      <th>matches</th>\n",
       "      <th>truth</th>\n",
       "      <th>test</th>\n",
       "    </tr>\n",
       "  </thead>\n",
       "  <tbody>\n",
       "    <tr>\n",
       "      <th>0</th>\n",
       "      <td>site outdoor air drybulb temperature</td>\n",
       "      <td>[{LOC}, {O}, {A}, {DB}, {TEMP, TMP, TEMPERATUR...</td>\n",
       "      <td>[RA_CO2, SA-TSP, SA_CO2, OC-T, OC_T, RA_T, SA_T]</td>\n",
       "      <td>TEMP</td>\n",
       "      <td>FP1</td>\n",
       "    </tr>\n",
       "    <tr>\n",
       "      <th>25</th>\n",
       "      <td>zone mean air temperature</td>\n",
       "      <td>[{RM, R}, {A}, {TEMP, TMP, TEMPERATURE, T}]</td>\n",
       "      <td>[RA_CO2, SA-TSP, SA_RH, TEMP, SA_T, TRP, RA_T]</td>\n",
       "      <td>STATUS TEMP LEVEL</td>\n",
       "      <td>FP1</td>\n",
       "    </tr>\n",
       "    <tr>\n",
       "      <th>283</th>\n",
       "      <td>zone air node temperature</td>\n",
       "      <td>[{RM, R}, {A}, {TEMP, TMP, TEMPERATURE, T}]</td>\n",
       "      <td>[RA_CO2, SA-TSP, SA_RH, TEMP, SA_T, TRP, RA_T]</td>\n",
       "      <td>STATUS TEMP LEVEL</td>\n",
       "      <td>FP1</td>\n",
       "    </tr>\n",
       "  </tbody>\n",
       "</table>\n",
       "</div>"
      ],
      "text/plain": [
       "                                    input  \\\n",
       "0    site outdoor air drybulb temperature   \n",
       "25              zone mean air temperature   \n",
       "283             zone air node temperature   \n",
       "\n",
       "                                                  abbs  \\\n",
       "0    [{LOC}, {O}, {A}, {DB}, {TEMP, TMP, TEMPERATUR...   \n",
       "25         [{RM, R}, {A}, {TEMP, TMP, TEMPERATURE, T}]   \n",
       "283        [{RM, R}, {A}, {TEMP, TMP, TEMPERATURE, T}]   \n",
       "\n",
       "                                              matches              truth test  \n",
       "0    [RA_CO2, SA-TSP, SA_CO2, OC-T, OC_T, RA_T, SA_T]               TEMP  FP1  \n",
       "25     [RA_CO2, SA-TSP, SA_RH, TEMP, SA_T, TRP, RA_T]  STATUS TEMP LEVEL  FP1  \n",
       "283    [RA_CO2, SA-TSP, SA_RH, TEMP, SA_T, TRP, RA_T]  STATUS TEMP LEVEL  FP1  "
      ]
     },
     "execution_count": 15,
     "metadata": {},
     "output_type": "execute_result"
    }
   ],
   "source": [
    "top7[top7['test']=='FP1']"
   ]
  },
  {
   "cell_type": "code",
   "execution_count": 18,
   "metadata": {},
   "outputs": [
    {
     "data": {
      "text/plain": [
       "FP     427\n",
       "FP1     15\n",
       "TP      14\n",
       "TN      10\n",
       "Name: test, dtype: int64"
      ]
     },
     "execution_count": 18,
     "metadata": {},
     "output_type": "execute_result"
    }
   ],
   "source": [
    "def check1(result):\n",
    "    for i in result.index:\n",
    "        if len(result.loc[i,'matches']) == 0:\n",
    "            if result.loc[i,'truth'] in [np.nan]:\n",
    "                result.loc[i,'test'] = 'TN'\n",
    "            else:\n",
    "                result.loc[i,'test'] = 'FN'\n",
    "        elif result.loc[i,'truth'] in [np.nan]:\n",
    "            result.loc[i,'test'] = 'FP'\n",
    "        elif result.loc[i,'truth'] == result.loc[i,'matches'][-1]:\n",
    "            result.loc[i,'test'] = 'TP'\n",
    "        else:\n",
    "            result.loc[i,'test'] = 'FP1'\n",
    "    return result\n",
    "\n",
    "t7 = check1(top7)\n",
    "t7['test'].value_counts()"
   ]
  },
  {
   "cell_type": "markdown",
   "metadata": {},
   "source": [
    "# baseline\n"
   ]
  },
  {
   "cell_type": "code",
   "execution_count": 19,
   "metadata": {
    "collapsed": true
   },
   "outputs": [],
   "source": [
    "def onNgram(s,OPCtag,th):\n",
    "    \n",
    "    ngram = []\n",
    "    for i in range(3,0,-1):\n",
    "        grams = ngrams(s.split(' '),i)\n",
    "        for gram in grams:\n",
    "            ngram.append(' '.join(list(gram)))\n",
    "    \n",
    "#     ngram.sort(key = lambda s: len(s),reverse = True)\n",
    "    ABBs = []\n",
    "    while len(ngram)>0:\n",
    "        i = ngram[0]\n",
    "        ngram.remove(i)\n",
    "        try:\n",
    "            ABBs.append(ABBdict.loc[ABBdict['name'] == i,'abb'].values[0])\n",
    "            ngram = [s for s in ngram if (s not in i)]\n",
    "        except:\n",
    "            pass\n",
    "    \n",
    "    detail = []\n",
    "    for i in OPCtag.index:\n",
    "        r = 0\n",
    "        used = [0]*len(ABBs)    # so that a set of ABBs is only matched once\n",
    "        if i >187 and i <332:\n",
    "            count = 0\n",
    "            for gram in OPCtag['ngram'][i]:\n",
    "                for c in range(len(ABBs)):\n",
    "                    if gram in ABBs[c] and used[c]==0:\n",
    "                        used[c] = 1\n",
    "                        count += 1\n",
    "                        break\n",
    "    # criteria passed: # of hits, # of total hit characters in tag, ratio of hit sets over total\n",
    "            if count >= 1:\n",
    "                # harmonic average of ratio on both side\n",
    "    #             r = 2/(len(ABBs)/sum(used) + len(OPCtag['ngram'][i])/count)\n",
    "    #             Jaccard similarity\n",
    "                r = count/(len(ABBs)+len(OPCtag['ngram'][i])-count)\n",
    "                detail.append([round(r,4),OPCtag['tag'][i]])  #,tuple(OPCtag['ngram'][i])\n",
    "        else:\n",
    "            m=0\n",
    "            for s in OPCtag['ngram'][i].split(' '):\n",
    "                for c in range(len(ABBs)):\n",
    "                    if s in ABBs[c] and used[c]==0:\n",
    "                        used[c] = 1\n",
    "                        m += 1\n",
    "                        break\n",
    "            if m > 0:\n",
    "                r = m/(len(ABBs)+len(OPCtag['ngram'][i].split(' '))-m)\n",
    "                detail.append([round(r,4),OPCtag['tag'][i],tuple(OPCtag['Xgrams'][i].split(' '))])\n",
    "\n",
    "            \n",
    "    detail = list(set(tuple(x) for x in detail))\n",
    "    detail.sort()\n",
    "    matches = [i[1] for i in detail][-th:] #top 10 vs top 7 (10%) tested\n",
    "            \n",
    "    return [matches,detail,ABBs]\n",
    "\n",
    "# test = match(str.lower('Zone Mean Air Temperature'),OPCtag)\n",
    "# set(tuple(x) for x in test[0])"
   ]
  },
  {
   "cell_type": "code",
   "execution_count": 20,
   "metadata": {
    "collapsed": true
   },
   "outputs": [],
   "source": [
    "OPCtag['ngram'] = OPCtag['tag']\n",
    "for i in range(188,332):\n",
    "    ngram = []\n",
    "    for n in range(1,min(7,len(OPCtag['tag'][i])+1)):\n",
    "        grams = ngrams(OPCtag.loc[i,('tag')],n)\n",
    "        for gram in grams:\n",
    "            ngram.append(''.join(list(gram)))\n",
    "    OPCtag.at[i,'ngram'] = ngram\n",
    "# OPCtag[-30:]"
   ]
  },
  {
   "cell_type": "code",
   "execution_count": 21,
   "metadata": {
    "collapsed": true
   },
   "outputs": [],
   "source": [
    "top7 = pd.DataFrame(columns = ['input','abbs','matches'])\n",
    "ls = truth['input'].unique()\n",
    "# add some input variables to map\n",
    "for i in range(len(ls)):\n",
    "    test = onNgram(ls[i],OPCtag,5)\n",
    "#     print(i,end=' ')\n",
    "#     print(test[1])\n",
    "    top7.loc[i,'input'] = ls[i]\n",
    "    top7.loc[i,'abbs'] = test[2]\n",
    "    top7.loc[i,'matches'] = test[0]\n",
    "#     result.loc[i,'detail'] = test[1]\n",
    "top7 = top7.join(truth.set_index('input'), on='input')"
   ]
  },
  {
   "cell_type": "code",
   "execution_count": 26,
   "metadata": {},
   "outputs": [
    {
     "data": {
      "text/plain": [
       "FP     427\n",
       "TP      26\n",
       "TN      10\n",
       "FP1      3\n",
       "Name: test, dtype: int64"
      ]
     },
     "execution_count": 26,
     "metadata": {},
     "output_type": "execute_result"
    }
   ],
   "source": [
    "t7 = check(top7)\n",
    "t7['test'].value_counts()"
   ]
  },
  {
   "cell_type": "code",
   "execution_count": 24,
   "metadata": {},
   "outputs": [
    {
     "data": {
      "text/plain": [
       "FP     427\n",
       "FP1     18\n",
       "TP      11\n",
       "TN      10\n",
       "Name: test, dtype: int64"
      ]
     },
     "execution_count": 24,
     "metadata": {},
     "output_type": "execute_result"
    }
   ],
   "source": [
    "t7 = check1(top7)\n",
    "t7['test'].value_counts()"
   ]
  },
  {
   "cell_type": "code",
   "execution_count": 27,
   "metadata": {},
   "outputs": [
    {
     "data": {
      "text/html": [
       "<div>\n",
       "<style scoped>\n",
       "    .dataframe tbody tr th:only-of-type {\n",
       "        vertical-align: middle;\n",
       "    }\n",
       "\n",
       "    .dataframe tbody tr th {\n",
       "        vertical-align: top;\n",
       "    }\n",
       "\n",
       "    .dataframe thead th {\n",
       "        text-align: right;\n",
       "    }\n",
       "</style>\n",
       "<table border=\"1\" class=\"dataframe\">\n",
       "  <thead>\n",
       "    <tr style=\"text-align: right;\">\n",
       "      <th></th>\n",
       "      <th>input</th>\n",
       "      <th>abbs</th>\n",
       "      <th>matches</th>\n",
       "      <th>truth</th>\n",
       "      <th>test</th>\n",
       "    </tr>\n",
       "  </thead>\n",
       "  <tbody>\n",
       "    <tr>\n",
       "      <th>94</th>\n",
       "      <td>demand side inlet 1 setpoint temperature</td>\n",
       "      <td>[{ENGRY}, {S, FWD}, {SP}, {TEMP, TMP, TEMPERAT...</td>\n",
       "      <td>[DEW POINT TEMPERATURE, SA_T, STATUS TEMP LEVE...</td>\n",
       "      <td>SA-TSP</td>\n",
       "      <td>FP1</td>\n",
       "    </tr>\n",
       "    <tr>\n",
       "      <th>148</th>\n",
       "      <td>supply side outlet setpoint temperature</td>\n",
       "      <td>[{S}, {SP}, {TEMP, TMP, TEMPERATURE, T}]</td>\n",
       "      <td>[SA_T, DEW POINT TEMPERATURE, STATUS TEMP LEVE...</td>\n",
       "      <td>SA-TSP</td>\n",
       "      <td>FP1</td>\n",
       "    </tr>\n",
       "    <tr>\n",
       "      <th>457</th>\n",
       "      <td>cooling coil outlet temperature</td>\n",
       "      <td>[{S, OC}, {CLG, CL}, {TEMP, TMP, TEMPERATURE, T}]</td>\n",
       "      <td>[SA_T, DEW POINT TEMPERATURE, STATUS TEMP LEVE...</td>\n",
       "      <td>OC_T</td>\n",
       "      <td>FP1</td>\n",
       "    </tr>\n",
       "  </tbody>\n",
       "</table>\n",
       "</div>"
      ],
      "text/plain": [
       "                                        input  \\\n",
       "94   demand side inlet 1 setpoint temperature   \n",
       "148   supply side outlet setpoint temperature   \n",
       "457           cooling coil outlet temperature   \n",
       "\n",
       "                                                  abbs  \\\n",
       "94   [{ENGRY}, {S, FWD}, {SP}, {TEMP, TMP, TEMPERAT...   \n",
       "148           [{S}, {SP}, {TEMP, TMP, TEMPERATURE, T}]   \n",
       "457  [{S, OC}, {CLG, CL}, {TEMP, TMP, TEMPERATURE, T}]   \n",
       "\n",
       "                                               matches   truth test  \n",
       "94   [DEW POINT TEMPERATURE, SA_T, STATUS TEMP LEVE...  SA-TSP  FP1  \n",
       "148  [SA_T, DEW POINT TEMPERATURE, STATUS TEMP LEVE...  SA-TSP  FP1  \n",
       "457  [SA_T, DEW POINT TEMPERATURE, STATUS TEMP LEVE...    OC_T  FP1  "
      ]
     },
     "execution_count": 27,
     "metadata": {},
     "output_type": "execute_result"
    }
   ],
   "source": [
    "top7[top7['test']=='FP1']"
   ]
  },
  {
   "cell_type": "code",
   "execution_count": null,
   "metadata": {
    "collapsed": true
   },
   "outputs": [],
   "source": []
  },
  {
   "cell_type": "code",
   "execution_count": null,
   "metadata": {
    "collapsed": true
   },
   "outputs": [],
   "source": []
  },
  {
   "cell_type": "code",
   "execution_count": 22,
   "metadata": {
    "scrolled": false
   },
   "outputs": [
    {
     "data": {
      "text/plain": [
       "[['SA_RH', 'TEMP', 'SA_T', 'TRP', 'RA_T'],\n",
       " [(0.1667, 'ST_P_STPT', ('S', 'T', 'P', 'S', 'T', 'P', 'T')),\n",
       "  (0.2222, 'SA_CO2', ('S', 'A', 'C', 'O', '2')),\n",
       "  (0.25, 'PFILT', ('P', 'F', 'I', 'L', 'T')),\n",
       "  (0.25, 'SA_SP', ('S', 'A', 'S', 'P')),\n",
       "  (0.25, 'SFILT', ('S', 'F', 'I', 'L', 'T')),\n",
       "  (0.2857, 'FA_C', ('F', 'A', 'C')),\n",
       "  (0.2857, 'OC-T', ('O', 'C', '-', 'T')),\n",
       "  (0.2857, 'OC_T', ('O', 'C', 'T')),\n",
       "  (0.3077, 'EC_MOTOR_C', ('E', 'C', 'M', 'O', 'T', 'O', 'R', 'C')),\n",
       "  (0.3077, 'SA_PRES_SP', ('S', 'A', 'P', 'R', 'E', 'S', 'S', 'P')),\n",
       "  (0.3333, 'AF1', ('A', 'F', '1')),\n",
       "  (0.3333, 'AF2', ('A', 'F', '2')),\n",
       "  (0.3333, 'AF3', ('A', 'F', '3')),\n",
       "  (0.3333, 'AF4', ('A', 'F', '4')),\n",
       "  (0.3333, 'DEW POINT TEMPERATURE', ('DEW', 'POINT', 'TEMPERATURE')),\n",
       "  (0.3333, 'STATUS TEMP LEVEL', ('STATUS', 'TEMP', 'LEVEL')),\n",
       "  (0.3333, 'STS', ('S', 'T', 'S')),\n",
       "  (0.4, 'AF', ('A', 'F')),\n",
       "  (0.4444, 'RA_CO2', ('R', 'A', 'C', 'O', '2')),\n",
       "  (0.4444, 'SA-TSP', ('S', 'A', '-', 'T', 'S', 'P')),\n",
       "  (0.5, 'SA_RH', ('S', 'A', 'R', 'H')),\n",
       "  (0.5, 'TEMP', ('TEMP',)),\n",
       "  (0.5714, 'SA_T', ('S', 'A', 'T')),\n",
       "  (0.6667, 'TRP', ('T', 'R', 'P')),\n",
       "  (0.8571, 'RA_T', ('R', 'A', 'T'))],\n",
       " [{'R', 'RM'}, {'A'}, {'T', 'TEMP', 'TEMPERATURE', 'TMP'}]]"
      ]
     },
     "execution_count": 22,
     "metadata": {},
     "output_type": "execute_result"
    }
   ],
   "source": [
    "match('zone mean air temperature',OPCtag,5)"
   ]
  },
  {
   "cell_type": "code",
   "execution_count": 23,
   "metadata": {},
   "outputs": [
    {
     "data": {
      "text/plain": [
       "[['DEW POINT TEMPERATURE', 'STATUS TEMP LEVEL', 'TRP', 'RA_T', 'TEMP'],\n",
       " [(0.0244, 'ST_P_STPT'),\n",
       "  (0.0435, 'EC_MOTOR_C'),\n",
       "  (0.0435, 'SA_CO2'),\n",
       "  (0.0435, 'SA_PRES_SP'),\n",
       "  (0.0588, 'PFILT'),\n",
       "  (0.0588, 'SA_SP'),\n",
       "  (0.0588, 'SFILT'),\n",
       "  (0.0833, 'FA_C'),\n",
       "  (0.0833, 'OC-T'),\n",
       "  (0.0833, 'OC_T'),\n",
       "  (0.0909, 'RA_CO2'),\n",
       "  (0.0909, 'SA-TSP'),\n",
       "  (0.125, 'AF1'),\n",
       "  (0.125, 'AF2'),\n",
       "  (0.125, 'AF3'),\n",
       "  (0.125, 'AF4'),\n",
       "  (0.125, 'SA_RH'),\n",
       "  (0.125, 'STS'),\n",
       "  (0.1818, 'SA_T'),\n",
       "  (0.2, 'AF'),\n",
       "  (0.2, 'DEW POINT TEMPERATURE', ('DEW', 'POINT', 'TEMPERATURE')),\n",
       "  (0.2, 'STATUS TEMP LEVEL', ('STATUS', 'TEMP', 'LEVEL')),\n",
       "  (0.2857, 'TRP'),\n",
       "  (0.3, 'RA_T'),\n",
       "  (0.3333, 'TEMP', ('TEMP',))],\n",
       " [{'R', 'RM'}, {'A'}, {'T', 'TEMP', 'TEMPERATURE', 'TMP'}]]"
      ]
     },
     "execution_count": 23,
     "metadata": {},
     "output_type": "execute_result"
    }
   ],
   "source": [
    "onNgram('zone mean air temperature',OPCtag,5)"
   ]
  },
  {
   "cell_type": "code",
   "execution_count": null,
   "metadata": {
    "collapsed": true
   },
   "outputs": [],
   "source": []
  }
 ],
 "metadata": {
  "anaconda-cloud": {},
  "kernelspec": {
   "display_name": "Python 3",
   "language": "python",
   "name": "python3"
  },
  "language_info": {
   "codemirror_mode": {
    "name": "ipython",
    "version": 3
   },
   "file_extension": ".py",
   "mimetype": "text/x-python",
   "name": "python",
   "nbconvert_exporter": "python",
   "pygments_lexer": "ipython3",
   "version": "3.6.4"
  }
 },
 "nbformat": 4,
 "nbformat_minor": 2
}
