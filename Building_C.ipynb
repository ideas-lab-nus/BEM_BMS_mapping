{
 "cells": [
  {
   "cell_type": "code",
   "execution_count": 1,
   "metadata": {},
   "outputs": [],
   "source": [
    "import numpy as np\n",
    "import pandas as pd\n",
    "from weighted_levenshtein import lev\n",
    "import sklearn.cluster\n",
    "from sklearn.metrics.cluster import adjusted_rand_score\n",
    "import re\n",
    "from itertools import combinations \n",
    "from nltk import ngrams\n",
    "from eppy import modeleditor\n",
    "from eppy.modeleditor import IDF\n",
    "IDF.setiddname('C:/EnergyPlusV8-8-0/Energy+.idd')\n",
    "\n",
    "import warnings\n",
    "warnings.simplefilter(action='ignore', category=DeprecationWarning)\n",
    "\n",
    "%matplotlib inline"
   ]
  },
  {
   "cell_type": "markdown",
   "metadata": {},
   "source": [
    "## Extracting core information from BMS point tags"
   ]
  },
  {
   "cell_type": "code",
   "execution_count": 3,
   "metadata": {
    "scrolled": true
   },
   "outputs": [
    {
     "data": {
      "text/plain": [
       "0    CSE\n",
       "1    CV_\n",
       "2    CWR\n",
       "3    CWS\n",
       "4    CWV\n",
       "Name: tag, dtype: object"
      ]
     },
     "execution_count": 3,
     "metadata": {},
     "output_type": "execute_result"
    }
   ],
   "source": [
    "raw = pd.read_csv('../.csv')\n",
    "tags = raw['tag'].copy()\n",
    "tags = tags.apply(lambda x: re.split('[.:]',x)[-1]) #extract the core information with simple trimming\n",
    "tags.head()"
   ]
  },
  {
   "cell_type": "markdown",
   "metadata": {},
   "source": [
    "## Tokenization of BMS tags using X-gram"
   ]
  },
  {
   "cell_type": "code",
   "execution_count": 4,
   "metadata": {},
   "outputs": [],
   "source": [
    "def razors(string):\n",
    "    m = len(string)-1\n",
    "    result = []\n",
    "    for k in range(min(m+1,7)):\n",
    "        for bits in combinations(range(m), k):\n",
    "            s = [1] * m\n",
    "            for bit in bits:\n",
    "                s[bit] = 0\n",
    "            result.append(s)\n",
    "    return result\n",
    "\n",
    "def Xgrams(string):\n",
    "    string = ''.join(re.split('[ _,:]',string))\n",
    "    ngrams = []\n",
    "    for item in razors(string):\n",
    "        ngram = []\n",
    "        flag = 0\n",
    "        for i in range(len(item)):\n",
    "            if item[i]:\n",
    "                ngram.append(string[flag:i+1])\n",
    "                flag = i+1\n",
    "        ngram.append(string[flag:])\n",
    "        ngram.sort(key = len,reverse=True)   # so that the longer substrings get matched first\n",
    "        ngrams.append(ngram)\n",
    "    return ngrams"
   ]
  },
  {
   "cell_type": "code",
   "execution_count": 5,
   "metadata": {},
   "outputs": [
    {
     "data": {
      "text/html": [
       "<div>\n",
       "<style scoped>\n",
       "    .dataframe tbody tr th:only-of-type {\n",
       "        vertical-align: middle;\n",
       "    }\n",
       "\n",
       "    .dataframe tbody tr th {\n",
       "        vertical-align: top;\n",
       "    }\n",
       "\n",
       "    .dataframe thead th {\n",
       "        text-align: right;\n",
       "    }\n",
       "</style>\n",
       "<table border=\"1\" class=\"dataframe\">\n",
       "  <thead>\n",
       "    <tr style=\"text-align: right;\">\n",
       "      <th></th>\n",
       "      <th>tag</th>\n",
       "      <th>Xgrams</th>\n",
       "    </tr>\n",
       "  </thead>\n",
       "  <tbody>\n",
       "    <tr>\n",
       "      <th>0</th>\n",
       "      <td>CSE</td>\n",
       "      <td>[[C, S, E], [CS, E], [SE, C], [CSE]]</td>\n",
       "    </tr>\n",
       "    <tr>\n",
       "      <th>1</th>\n",
       "      <td>CV_</td>\n",
       "      <td>[[C, V], [CV]]</td>\n",
       "    </tr>\n",
       "    <tr>\n",
       "      <th>2</th>\n",
       "      <td>CWR</td>\n",
       "      <td>[[C, W, R], [CW, R], [WR, C], [CWR]]</td>\n",
       "    </tr>\n",
       "    <tr>\n",
       "      <th>3</th>\n",
       "      <td>CWS</td>\n",
       "      <td>[[C, W, S], [CW, S], [WS, C], [CWS]]</td>\n",
       "    </tr>\n",
       "    <tr>\n",
       "      <th>4</th>\n",
       "      <td>CWV</td>\n",
       "      <td>[[C, W, V], [CW, V], [WV, C], [CWV]]</td>\n",
       "    </tr>\n",
       "  </tbody>\n",
       "</table>\n",
       "</div>"
      ],
      "text/plain": [
       "   tag                                Xgrams\n",
       "0  CSE  [[C, S, E], [CS, E], [SE, C], [CSE]]\n",
       "1  CV_                        [[C, V], [CV]]\n",
       "2  CWR  [[C, W, R], [CW, R], [WR, C], [CWR]]\n",
       "3  CWS  [[C, W, S], [CW, S], [WS, C], [CWS]]\n",
       "4  CWV  [[C, W, V], [CW, V], [WV, C], [CWV]]"
      ]
     },
     "execution_count": 5,
     "metadata": {},
     "output_type": "execute_result"
    }
   ],
   "source": [
    "OPCtag = pd.DataFrame(tags.unique(),columns=['tag'])\n",
    "\n",
    "OPCtag['tag'] = OPCtag['tag'].apply(lambda x: str.upper(x))\n",
    "OPCtag['Xgrams'] = OPCtag['tag'].apply(lambda x: Xgrams(x))\n",
    "OPCtag = OPCtag[OPCtag['tag'].str.len()<7]\n",
    "OPCtag.head()"
   ]
  },
  {
   "cell_type": "markdown",
   "metadata": {},
   "source": [
    "## Defining the dictionary used to tokenize the EnergyPlus variables"
   ]
  },
  {
   "cell_type": "code",
   "execution_count": 6,
   "metadata": {},
   "outputs": [],
   "source": [
    "def updateABB(abb,full):\n",
    "    global ABBdict\n",
    "    for i in full:\n",
    "        if i in list(ABBdict['name']):\n",
    "            ABBdict['abb'].loc[ABBdict['name']==i].item().add(abb[full.index(i)])\n",
    "        else:\n",
    "            ABBdict = ABBdict.append({'abb': set([abb[full.index(i)]]),'name':i}, ignore_index=True)"
   ]
  },
  {
   "cell_type": "code",
   "execution_count": 7,
   "metadata": {},
   "outputs": [],
   "source": [
    "dict1 = pd.read_csv('../HVACacronym.csv')\n",
    "dict2 = pd.read_csv('../HVACacronym1.csv')\n",
    "\n",
    "dict1['full']=dict1['full'].apply(lambda x: str.lower(x))\n",
    "dict2['name']=dict2['name'].apply(lambda x: str.lower(x))\n",
    "\n",
    "ABBdict = pd.concat([dict1.rename({'full':'name'}, axis='columns'),dict2])\n",
    "ABBdict['abb']= ABBdict[['abb']].values.tolist()\n",
    "ABBdict = pd.DataFrame(ABBdict.groupby('name')['abb'].sum())\n",
    "ABBdict['name']=ABBdict.index\n",
    "ABBdict.rename(index=str, columns={0: \"abb\"},inplace=True)\n",
    "ABBdict['abb']= ABBdict['abb'].apply(lambda x: set(x))\n",
    "\n",
    "ABBdict.reset_index(drop=True,inplace=True)"
   ]
  },
  {
   "cell_type": "code",
   "execution_count": 8,
   "metadata": {},
   "outputs": [],
   "source": [
    "abb = ['OC','TMP','TEMP','SA','STATIC','RA','RH','RM','BM','FLWR','RET','KWATT','KWHR','PM','ENGRY','FWD','PWR','AHU','FAN','SPEED','BYP','CLG','WATER','VLV','TP','SMK','FA','PM','BM','CURR','VOLT','PW']\n",
    "full=['off coil','temperature','temperature','supply air','pressure','return air','relative humidity','room','btu meter','flow rate','return','power','energy','power meter','energy','supply','power','ahu','fan','speed','bypass','cooling','water','valve','time program','smoke','fresh air','power meter','btu meter','current','voltage','power']\n",
    "updateABB(abb,full)\n",
    "\n",
    "EPname = ['zone','air','energy','heating','cooling','air terminal','pump','boiler','condenser','setpoint','heat exchanger','humidifier','heater','water','people','window','infiltration','equipment','outdoor','drybulb','dewpoint','speed','angle','radiation','pressure','precipitation','occupant','lights','humidity ratio','facility','mass flow rate','interior','gas','office','room','level','extract','fan','supply','air loop','site','power','radiant','fan coil unit','indoor','heat pump','vav','vrf','return','inlet','outlet','relief air','rate']\n",
    "EPabb = ['RM','A','KWHR','HT','CL','VAV','PMP','B','COND','SP','HX','HUMID','HTR','WTR','PPL','WD','INFIL','EQUIP','O','DB','DP','SPD','AGL','R','PR','P','OCC','LT','HR','FAC','FLWR','INTR','G','OFC','RM','LV','E','F','S','AHU','LOC','KWATT','R','FCU','I','CU','VAV','VRF','R','S','R','EA','KW']\n",
    "updateABB(EPabb,EPname)\n",
    "\n",
    "NODEname = ['supply side inlet','supply side outlet','coil air outlet','mixed inlet','splitter outlet','coil outlet','inlet','outlet','supply inlet']\n",
    "NODEabb = ['R','S','OC','R','S','S','FWD','RET','R']\n",
    "updateABB(NODEabb,NODEname)\n",
    "\n",
    "testName = ['electricity','energy','power','demand','rate','coil air outlet','coil outlet']\n",
    "testABB = ['KWHR','ENGRY','PWR','ENGRY','PWR','S','OC']\n",
    "updateABB(testABB,testName)\n",
    "\n",
    "iwName = ['dewpoint','relative humidity','humidity ratio','wind','direction','global','solar','zone','electricity','water','mass flow rate']\n",
    "iwABB = ['DWP','HM','HM','W','DIREC','GLO','S','R','TOTKW','W','FL']\n",
    "updateABB(iwABB,iwName)\n",
    "\n",
    "iwName = ['humidity ratio','relative humidity','mass flow rate']\n",
    "iwABB = ['HUM','HUM','FLO']\n",
    "updateABB(iwABB,iwName)\n",
    "\n",
    "sdeName = ['temperature','dewpoint','relative humidity','humidity ratio','pressure','barometric','wind','direction','solar','radiation','precipitation','electricity','energy','purchased','net','produced']\n",
    "sdeABB = ['TEMPERATURE','DEW','HUMIDITY','HUMIDITY','PRESSURE','BAROMETRIC','WIND','DIRECTION','SOLAR','RADIATION','PRECIPITATION','POWER','ENERGY','RECEIVED','BALANCE','DELIVERED']\n",
    "updateABB(sdeABB,sdeName)\n",
    "\n",
    "sdeABB = ['KWH','SP']\n",
    "sdeName = ['electricity','pressure']\n",
    "updateABB(sdeABB,sdeName)\n",
    "\n",
    "CSLabb = ['DEWPOINT','H','H','OCCUPANCY','USAGE','SUPPLY','CFM','STPT','ZN']\n",
    "CSLname = ['dewpoint','humidity ratio','relative humidity','occupant','energy','inlet','flow rate','setpoint','zone']\n",
    "updateABB(CSLabb,CSLname)\n",
    "\n",
    "CSLabb = ['KCFM','SETPOINT','RETURN','RETURN','ZONE','SUPPLY','RETURN']\n",
    "CSLname = ['flow rate','setpoint','supply inlet','outlet','zone','supply side outlet','return']\n",
    "updateABB(CSLabb,CSLname)\n",
    "\n",
    "CSL3abb = ['FLOW','RETURN']\n",
    "CSL3name = ['flow rate','supply side inlet']\n",
    "updateABB(CSL3abb,CSL3name)"
   ]
  },
  {
   "cell_type": "markdown",
   "metadata": {},
   "source": [
    "## read the EnergyPlus variables as well as the groudtruth"
   ]
  },
  {
   "cell_type": "code",
   "execution_count": 12,
   "metadata": {},
   "outputs": [
    {
     "data": {
      "text/html": [
       "<div>\n",
       "<style scoped>\n",
       "    .dataframe tbody tr th:only-of-type {\n",
       "        vertical-align: middle;\n",
       "    }\n",
       "\n",
       "    .dataframe tbody tr th {\n",
       "        vertical-align: top;\n",
       "    }\n",
       "\n",
       "    .dataframe thead th {\n",
       "        text-align: right;\n",
       "    }\n",
       "</style>\n",
       "<table border=\"1\" class=\"dataframe\">\n",
       "  <thead>\n",
       "    <tr style=\"text-align: right;\">\n",
       "      <th></th>\n",
       "      <th>input</th>\n",
       "      <th>truth</th>\n",
       "    </tr>\n",
       "  </thead>\n",
       "  <tbody>\n",
       "    <tr>\n",
       "      <th>0</th>\n",
       "      <td>site outdoor air drybulb temperature</td>\n",
       "      <td>[TEMP, OAT]</td>\n",
       "    </tr>\n",
       "    <tr>\n",
       "      <th>199</th>\n",
       "      <td>ahu cooling coil water inlet node temperature</td>\n",
       "      <td>[SWT, CWS]</td>\n",
       "    </tr>\n",
       "    <tr>\n",
       "      <th>200</th>\n",
       "      <td>ahu cooling coil water inlet node mass flow rate</td>\n",
       "      <td>[FLS, FLO]</td>\n",
       "    </tr>\n",
       "    <tr>\n",
       "      <th>205</th>\n",
       "      <td>ahu cooling coil water outlet node temperature</td>\n",
       "      <td>[RWT, CWR]</td>\n",
       "    </tr>\n",
       "    <tr>\n",
       "      <th>206</th>\n",
       "      <td>ahu cooling coil water outlet node mass flow rate</td>\n",
       "      <td>[FLS, FLO]</td>\n",
       "    </tr>\n",
       "  </tbody>\n",
       "</table>\n",
       "</div>"
      ],
      "text/plain": [
       "                                                 input        truth\n",
       "0                 site outdoor air drybulb temperature  [TEMP, OAT]\n",
       "199      ahu cooling coil water inlet node temperature   [SWT, CWS]\n",
       "200   ahu cooling coil water inlet node mass flow rate   [FLS, FLO]\n",
       "205     ahu cooling coil water outlet node temperature   [RWT, CWR]\n",
       "206  ahu cooling coil water outlet node mass flow rate   [FLS, FLO]"
      ]
     },
     "execution_count": 12,
     "metadata": {},
     "output_type": "execute_result"
    }
   ],
   "source": [
    "truth = pd.read_csv('../.csv')\n",
    "for i in truth.index:\n",
    "    if truth.loc[i,'alter'] in [np.nan]:\n",
    "        truth.loc[i,'truth'] = [truth.loc[i,'truth']]\n",
    "    else:\n",
    "        truth.loc[i,'truth'] = [truth.loc[i,'truth'],truth.loc[i,'alter']]\n",
    "truth.drop(columns=['alter'],inplace = True)\n",
    "truth[truth['truth'].str.len()>1]"
   ]
  },
  {
   "cell_type": "markdown",
   "metadata": {},
   "source": [
    "# fuzzy string matching"
   ]
  },
  {
   "cell_type": "code",
   "execution_count": 10,
   "metadata": {},
   "outputs": [],
   "source": [
    "def match(s,OPCtag,th):\n",
    "    \n",
    "    ngram = []\n",
    "    for i in range(3,0,-1):\n",
    "        grams = ngrams(s.split(' '),i)\n",
    "        for gram in grams:\n",
    "            ngram.append(' '.join(list(gram)))\n",
    "    \n",
    "    ABBs = []\n",
    "    while len(ngram)>0:\n",
    "        i = ngram[0]\n",
    "        ngram.remove(i)\n",
    "#         print(ngram)\n",
    "        try:\n",
    "            ABBs.append(ABBdict.loc[ABBdict['name'] == i,'abb'].values[0])\n",
    "            ngram = [s for s in ngram if (s not in i)]\n",
    "        except:\n",
    "            pass\n",
    "\n",
    "    details = []\n",
    "    for i in OPCtag.index:\n",
    "        idx = 0\n",
    "        m = 0\n",
    "        r = 0\n",
    "        for j in range(len(OPCtag['Xgrams'][i])):\n",
    "            used = [0]*len(ABBs)    # so that a set of ABBs is only matched once\n",
    "            count = 0\n",
    "            for gram in OPCtag.loc[i,'Xgrams'][j]:\n",
    "                for c in range(len(ABBs)):\n",
    "                    if gram in ABBs[c] and used[c]==0:\n",
    "                        used[c] = 1\n",
    "                        count += len(gram)\n",
    "                        break\n",
    "            if count > m:\n",
    "                m = count # to avoid division by zero error\n",
    "                # harmonic average of ratio on both side\n",
    "                r = 2/(len(ABBs)/sum(used) + len(OPCtag['tag'][i])/m)\n",
    "                idx = j\n",
    "        if r >= .01:\n",
    "            details.append([round(r,4),OPCtag['tag'][i],tuple(OPCtag['Xgrams'][i][idx])])\n",
    "\n",
    "    details = list(set(tuple(x) for x in details))\n",
    "    details.sort()\n",
    "    matches = [i[1] for i in details][-th:]\n",
    "\n",
    "    return [matches,details,ABBs]"
   ]
  },
  {
   "cell_type": "code",
   "execution_count": 11,
   "metadata": {},
   "outputs": [],
   "source": [
    "def check(result,th):\n",
    "    for i in result.index:\n",
    "        if len(result.loc[i,'matches']) == 0:\n",
    "            if np.nan in result.loc[i,'truth']:\n",
    "                result.loc[i,'test'] = 'TN'\n",
    "            else:\n",
    "                result.loc[i,'test'] = 'FN'\n",
    "        elif np.nan in result.loc[i,'truth']:\n",
    "            result.loc[i,'test'] = 'FP'\n",
    "        else:\n",
    "            for m in result.loc[i,'truth']:\n",
    "                if m in result.loc[i,'matches'][-th:]:\n",
    "                    result.loc[i,'test'] = 'TP'\n",
    "                    break\n",
    "                else:\n",
    "                    result.loc[i,'test'] = 'FP1'\n",
    "    return result"
   ]
  },
  {
   "cell_type": "code",
   "execution_count": 13,
   "metadata": {},
   "outputs": [],
   "source": [
    "top5 = pd.DataFrame(columns = ['input','abbs','matches'])\n",
    "ls = truth['input'].unique()\n",
    "for i in range(len(ls)):\n",
    "    test = match(ls[i],OPCtag,5)\n",
    "    top5.loc[i,'input'] = ls[i]\n",
    "    top5.loc[i,'abbs'] = test[2]\n",
    "    top5.loc[i,'matches'] = test[0]\n",
    "top5 = top5.join(truth.set_index('input'), on='input')"
   ]
  },
  {
   "cell_type": "code",
   "execution_count": 14,
   "metadata": {
    "scrolled": true
   },
   "outputs": [
    {
     "data": {
      "text/plain": [
       "FP     439\n",
       "TP      17\n",
       "TN       8\n",
       "FP1      2\n",
       "Name: test, dtype: int64"
      ]
     },
     "execution_count": 14,
     "metadata": {},
     "output_type": "execute_result"
    }
   ],
   "source": [
    "t5 = check(top5,5)\n",
    "t5['test'].value_counts()"
   ]
  },
  {
   "cell_type": "code",
   "execution_count": 15,
   "metadata": {},
   "outputs": [
    {
     "data": {
      "text/plain": [
       "FP     439\n",
       "TP      13\n",
       "TN       8\n",
       "FP1      6\n",
       "Name: test, dtype: int64"
      ]
     },
     "execution_count": 15,
     "metadata": {},
     "output_type": "execute_result"
    }
   ],
   "source": [
    "t1 = check(top5,1)\n",
    "t1['test'].value_counts()"
   ]
  },
  {
   "cell_type": "markdown",
   "metadata": {},
   "source": [
    "# baseline\n"
   ]
  },
  {
   "cell_type": "code",
   "execution_count": 17,
   "metadata": {},
   "outputs": [
    {
     "data": {
      "text/html": [
       "<div>\n",
       "<style scoped>\n",
       "    .dataframe tbody tr th:only-of-type {\n",
       "        vertical-align: middle;\n",
       "    }\n",
       "\n",
       "    .dataframe tbody tr th {\n",
       "        vertical-align: top;\n",
       "    }\n",
       "\n",
       "    .dataframe thead th {\n",
       "        text-align: right;\n",
       "    }\n",
       "</style>\n",
       "<table border=\"1\" class=\"dataframe\">\n",
       "  <thead>\n",
       "    <tr style=\"text-align: right;\">\n",
       "      <th></th>\n",
       "      <th>tag</th>\n",
       "      <th>Xgrams</th>\n",
       "      <th>ngram</th>\n",
       "    </tr>\n",
       "  </thead>\n",
       "  <tbody>\n",
       "    <tr>\n",
       "      <th>93</th>\n",
       "      <td>8</td>\n",
       "      <td>[[8]]</td>\n",
       "      <td>[8]</td>\n",
       "    </tr>\n",
       "    <tr>\n",
       "      <th>94</th>\n",
       "      <td>UFHM</td>\n",
       "      <td>[[U, F, H, M], [UF, H, M], [FH, U, M], [HM, U,...</td>\n",
       "      <td>[U, F, H, M, UF, FH, HM, UFH, FHM, UFHM]</td>\n",
       "    </tr>\n",
       "    <tr>\n",
       "      <th>95</th>\n",
       "      <td>UFT</td>\n",
       "      <td>[[U, F, T], [UF, T], [FT, U], [UFT]]</td>\n",
       "      <td>[U, F, T, UF, FT, UFT]</td>\n",
       "    </tr>\n",
       "    <tr>\n",
       "      <th>96</th>\n",
       "      <td>MSP</td>\n",
       "      <td>[[M, S, P], [MS, P], [SP, M], [MSP]]</td>\n",
       "      <td>[M, S, P, MS, SP, MSP]</td>\n",
       "    </tr>\n",
       "    <tr>\n",
       "      <th>97</th>\n",
       "      <td>MV_</td>\n",
       "      <td>[[M, V], [MV]]</td>\n",
       "      <td>[M, V, _, MV, V_, MV_]</td>\n",
       "    </tr>\n",
       "  </tbody>\n",
       "</table>\n",
       "</div>"
      ],
      "text/plain": [
       "     tag                                             Xgrams  \\\n",
       "93     8                                              [[8]]   \n",
       "94  UFHM  [[U, F, H, M], [UF, H, M], [FH, U, M], [HM, U,...   \n",
       "95   UFT               [[U, F, T], [UF, T], [FT, U], [UFT]]   \n",
       "96   MSP               [[M, S, P], [MS, P], [SP, M], [MSP]]   \n",
       "97   MV_                                     [[M, V], [MV]]   \n",
       "\n",
       "                                       ngram  \n",
       "93                                       [8]  \n",
       "94  [U, F, H, M, UF, FH, HM, UFH, FHM, UFHM]  \n",
       "95                    [U, F, T, UF, FT, UFT]  \n",
       "96                    [M, S, P, MS, SP, MSP]  \n",
       "97                    [M, V, _, MV, V_, MV_]  "
      ]
     },
     "execution_count": 17,
     "metadata": {},
     "output_type": "execute_result"
    }
   ],
   "source": [
    "# tokenization\n",
    "OPCtag['ngram'] = OPCtag['tag']\n",
    "for i in OPCtag.index:\n",
    "    ngram = []\n",
    "    for n in range(1,min(7,len(OPCtag['tag'][i])+1)):\n",
    "        grams = ngrams(OPCtag.loc[i,('tag')],n)\n",
    "        for gram in grams:\n",
    "            ngram.append(''.join(list(gram)))\n",
    "    OPCtag.at[i,'ngram'] = ngram\n",
    "OPCtag.tail()"
   ]
  },
  {
   "cell_type": "code",
   "execution_count": 16,
   "metadata": {},
   "outputs": [],
   "source": [
    "def onNgram(s,OPCtag,th):\n",
    "    \n",
    "    ngram = []\n",
    "    for i in range(3,0,-1):\n",
    "        grams = ngrams(s.split(' '),i)\n",
    "        for gram in grams:\n",
    "            ngram.append(' '.join(list(gram)))\n",
    "    \n",
    "    ABBs = []\n",
    "    while len(ngram)>0:\n",
    "        i = ngram[0]\n",
    "        ngram.remove(i)\n",
    "        try:\n",
    "            ABBs.append(ABBdict.loc[ABBdict['name'] == i,'abb'].values[0])\n",
    "            ngram = [s for s in ngram if (s not in i)]\n",
    "        except:\n",
    "            pass\n",
    "    \n",
    "    detail = []\n",
    "    for i in OPCtag.index:\n",
    "        r = 0\n",
    "        used = [0]*len(ABBs)    # so that a set of ABBs is only matched once\n",
    "        count = 0\n",
    "        for gram in OPCtag['ngram'][i]:\n",
    "            for c in range(len(ABBs)):\n",
    "                if gram in ABBs[c] and used[c]==0:\n",
    "                    used[c] = 1\n",
    "                    count += 1\n",
    "                    break\n",
    "        if count >= 1:\n",
    "            r = count/(len(ABBs)+len(OPCtag['ngram'][i])-count)\n",
    "            detail.append([round(r,4),OPCtag['tag'][i]])\n",
    "\n",
    "    detail = list(set(tuple(x) for x in detail))\n",
    "    detail.sort()\n",
    "    matches = [i[1] for i in detail][-th:]\n",
    "            \n",
    "    return [matches,detail,ABBs]"
   ]
  },
  {
   "cell_type": "code",
   "execution_count": 18,
   "metadata": {},
   "outputs": [],
   "source": [
    "top5 = pd.DataFrame(columns = ['input','abbs','matches'])\n",
    "ls = truth['input'].unique()\n",
    "for i in range(len(ls)):\n",
    "    test = onNgram(ls[i],OPCtag,5)\n",
    "    top5.loc[i,'input'] = ls[i]\n",
    "    top5.loc[i,'abbs'] = test[2]\n",
    "    top5.loc[i,'matches'] = test[0]\n",
    "top5 = top5.join(truth.set_index('input'), on='input')"
   ]
  },
  {
   "cell_type": "code",
   "execution_count": 19,
   "metadata": {},
   "outputs": [
    {
     "data": {
      "text/plain": [
       "FP     439\n",
       "TP      12\n",
       "TN       8\n",
       "FP1      7\n",
       "Name: test, dtype: int64"
      ]
     },
     "execution_count": 19,
     "metadata": {},
     "output_type": "execute_result"
    }
   ],
   "source": [
    "t5 = check(top5,5)\n",
    "t5['test'].value_counts()"
   ]
  },
  {
   "cell_type": "code",
   "execution_count": 20,
   "metadata": {},
   "outputs": [
    {
     "data": {
      "text/plain": [
       "FP     439\n",
       "FP1     10\n",
       "TP       9\n",
       "TN       8\n",
       "Name: test, dtype: int64"
      ]
     },
     "execution_count": 20,
     "metadata": {},
     "output_type": "execute_result"
    }
   ],
   "source": [
    "t1 = check(top5,1)\n",
    "t1['test'].value_counts()"
   ]
  },
  {
   "cell_type": "code",
   "execution_count": null,
   "metadata": {
    "collapsed": true
   },
   "outputs": [],
   "source": []
  }
 ],
 "metadata": {
  "anaconda-cloud": {},
  "kernelspec": {
   "display_name": "Python 3",
   "language": "python",
   "name": "python3"
  },
  "language_info": {
   "codemirror_mode": {
    "name": "ipython",
    "version": 3
   },
   "file_extension": ".py",
   "mimetype": "text/x-python",
   "name": "python",
   "nbconvert_exporter": "python",
   "pygments_lexer": "ipython3",
   "version": "3.6.4"
  }
 },
 "nbformat": 4,
 "nbformat_minor": 2
}
